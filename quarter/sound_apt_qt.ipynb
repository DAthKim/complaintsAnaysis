{
  "nbformat": 4,
  "nbformat_minor": 0,
  "metadata": {
    "colab": {
      "name": "sound_apt_qt.ipynb",
      "provenance": [],
      "collapsed_sections": [],
      "mount_file_id": "1cIbwx8Gd6zV-Auq_oMHdrr_2UbsqW5ZF",
      "authorship_tag": "ABX9TyNxzZZ3+n58v6FI9HdZA+We"
    },
    "kernelspec": {
      "name": "python3",
      "display_name": "Python 3"
    },
    "language_info": {
      "name": "python"
    }
  },
  "cells": [
    {
      "cell_type": "code",
      "metadata": {
        "id": "4qHf0nxK02YU"
      },
      "source": [
        "pip install konlpy"
      ],
      "execution_count": null,
      "outputs": []
    },
    {
      "cell_type": "code",
      "metadata": {
        "id": "1VKSV-wOiBqj"
      },
      "source": [
        "import pandas as pd\n",
        "import numpy as np\n",
        "import seaborn as sns\n",
        "from konlpy.tag import Okt\n",
        "from wordcloud import WordCloud, ImageColorGenerator, STOPWORDS\n",
        "import matplotlib.pyplot as plt\n",
        "%matplotlib inline\n",
        "okt = Okt()\n",
        "import matplotlib.font_manager as fm\n",
        "import re\n",
        "from PIL import Image\n",
        "from io import BytesIO \n",
        "import datetime as dt\n",
        "from collections import Counter"
      ],
      "execution_count": null,
      "outputs": []
    },
    {
      "cell_type": "code",
      "metadata": {
        "id": "FdywTozLiRit"
      },
      "source": [
        "labels = ['place','date','messenger','category','type','due','summary','name','phone','email','detail','receive','address','end','period','address_detail','result','result_detail','sign','etc']\n",
        "data_apt = pd.read_csv('/content/drive/MyDrive/Colab Notebooks/sounds/sounds_place_apt.csv', names = labels, encoding='cp949')\n",
        "data_apt.head()"
      ],
      "execution_count": null,
      "outputs": []
    },
    {
      "cell_type": "code",
      "metadata": {
        "id": "8Esu2_ss2lw_"
      },
      "source": [
        "data_apt.dtypes\n",
        "data_apt['date'] = pd.to_datetime(data_apt['date'], dayfirst=True, errors='coerce')"
      ],
      "execution_count": null,
      "outputs": []
    },
    {
      "cell_type": "code",
      "metadata": {
        "id": "tl8g9IewGiKI"
      },
      "source": [
        "apt_label = data_apt['date']\n",
        "# apt_label_du = apt_label[~apt_label.duplicated()]\n",
        "apt_label_count= Counter(apt_label)\n",
        "apt_label_count"
      ],
      "execution_count": null,
      "outputs": []
    },
    {
      "cell_type": "code",
      "metadata": {
        "id": "5orY8KbNfnCW"
      },
      "source": [
        "qt01 = (data_apt['date'].dt.month >= 1) & (data_apt['date'].dt.month <=3)\n",
        "qt02 = (data_apt['date'].dt.month >= 4) & (data_apt['date'].dt.month <=6)\n",
        "qt03 = (data_apt['date'].dt.month >= 7) & (data_apt['date'].dt.month <=9)\n",
        "qt04 = (data_apt['date'].dt.month >= 10) & (data_apt['date'].dt.month <=12)"
      ],
      "execution_count": null,
      "outputs": []
    },
    {
      "cell_type": "code",
      "metadata": {
        "id": "wTOjQ0YvL06O"
      },
      "source": [
        "apt_1qt_count = Counter(qt01)\n",
        "apt_2qt_count = Counter(qt02)\n",
        "apt_3qt_count = Counter(qt03)\n",
        "apt_4qt_count = Counter(qt04)\n",
        "qt_count = [apt_1qt_count[True],apt_2qt_count[True],apt_3qt_count[True],apt_4qt_count[True]]\n",
        "qt = [\"1qt\",\"2qt\",\"3qt\",\"4qt\"]\n",
        "qt_plot = sns.barplot(x=qt, y=qt_count, color=\"black\")\n",
        "qt_plot.figure.savefig(\"/content/drive/MyDrive/Colab Notebooks/wordcloud_img/apt_qd_plot.jpg\")"
      ],
      "execution_count": null,
      "outputs": []
    },
    {
      "cell_type": "code",
      "metadata": {
        "id": "K9BmyhsQmPlC"
      },
      "source": [
        "circle_mask = np.array(Image.open('/content/drive/MyDrive/Colab Notebooks/circle_img.jpg'))"
      ],
      "execution_count": null,
      "outputs": []
    },
    {
      "cell_type": "markdown",
      "metadata": {
        "id": "uXLtfotmTf5G"
      },
      "source": [
        "## 1분기"
      ]
    },
    {
      "cell_type": "code",
      "metadata": {
        "id": "XzsQdYnbdf4V"
      },
      "source": [
        "apt_question = data_apt[data_apt['type'] == \"질의\"]\n",
        "apt_question_1qt = apt_question[qt01]\n",
        "apt_qd_1qt = apt_question_1qt['detail']\n",
        "\n",
        "apt_check = data_apt[data_apt['type'] == \"확인\"]\n",
        "apt_check_1qt = apt_check[qt01]\n",
        "apt_cd_1qt = apt_check_1qt['detail']\n",
        "\n",
        "apt_request = data_apt[data_apt['type'] == \"건의\"]\n",
        "apt_request_1qt = apt_request[qt01]\n",
        "apt_rd_1qt = apt_request_1qt['detail']"
      ],
      "execution_count": null,
      "outputs": []
    },
    {
      "cell_type": "markdown",
      "metadata": {
        "id": "G-Hkehc8WixV"
      },
      "source": [
        "질의"
      ]
    },
    {
      "cell_type": "code",
      "metadata": {
        "id": "hguVNBbpeFnC"
      },
      "source": [
        "apt_qd_tolist_1qt = apt_qd_1qt.values.tolist()\n",
        "apt_qd_list_1qt = ''\n",
        "for i in apt_qd_tolist_1qt:\n",
        "  apt_qd_list_1qt += i"
      ],
      "execution_count": null,
      "outputs": []
    },
    {
      "cell_type": "code",
      "metadata": {
        "id": "sO-G4dTvIKST"
      },
      "source": [
        "apt_qd_nouns_1qt = okt.nouns(apt_qd_list_1qt)\n",
        "apt_qd_n_1qt = ''\n",
        "for i in apt_qd_nouns_1qt:\n",
        "  apt_qd_n_1qt += i+' '"
      ],
      "execution_count": null,
      "outputs": []
    },
    {
      "cell_type": "code",
      "metadata": {
        "id": "Oo0dyXx7qqY5"
      },
      "source": [
        "apt_qd_nouns_count_1qt = Counter(apt_qd_nouns_1qt)\n",
        "apt_qd_nouns_count_1qt"
      ],
      "execution_count": null,
      "outputs": []
    },
    {
      "cell_type": "code",
      "metadata": {
        "id": "vN35SalkMVKu"
      },
      "source": [
        "stopwords = set(STOPWORDS)\n",
        "stopwords.update(['아파트','행복'])"
      ],
      "execution_count": null,
      "outputs": []
    },
    {
      "cell_type": "code",
      "metadata": {
        "id": "itbGy5cuGAUQ"
      },
      "source": [
        "wd_apt_1qt_qd = WordCloud(background_color = \"white\",max_font_size=180,mask=circle_mask,font_path='/content/drive/MyDrive/Colab Notebooks/sounds/malgun.ttf',stopwords=stopwords).generate(apt_qd_n_1qt)\n",
        "fig = plt.figure()\n",
        "plt.imshow(wd_apt_1qt_qd, interpolation='bilinear')\n",
        "plt.axis('off')\n",
        "wd_apt_1qt_qd.to_file(filename='/content/drive/MyDrive/Colab Notebooks/wordcloud_img/wd_apt_1qt_qd.jpg')"
      ],
      "execution_count": null,
      "outputs": []
    },
    {
      "cell_type": "markdown",
      "metadata": {
        "id": "TgXfpRCyWpsw"
      },
      "source": [
        "확인"
      ]
    },
    {
      "cell_type": "code",
      "metadata": {
        "id": "mckFZ1MPVWqq"
      },
      "source": [
        "apt_cd_tolist_1qt = apt_cd_1qt.values.tolist()\n",
        "apt_cd_list_1qt = ''\n",
        "for i in apt_cd_tolist_1qt:\n",
        "  apt_cd_list_1qt += i"
      ],
      "execution_count": null,
      "outputs": []
    },
    {
      "cell_type": "code",
      "metadata": {
        "id": "bOenZy9sVWqr"
      },
      "source": [
        "apt_cd_nouns_1qt = okt.nouns(apt_cd_list_1qt)\n",
        "apt_cd_n_1qt = ''\n",
        "for i in apt_cd_nouns_1qt:\n",
        "  apt_cd_n_1qt += i+' '"
      ],
      "execution_count": null,
      "outputs": []
    },
    {
      "cell_type": "code",
      "metadata": {
        "id": "pRKcByylVWqr"
      },
      "source": [
        "apt_cd_nouns_count_1qt = Counter(apt_cd_nouns_1qt)\n",
        "apt_cd_nouns_count_1qt"
      ],
      "execution_count": null,
      "outputs": []
    },
    {
      "cell_type": "code",
      "metadata": {
        "id": "u-4hZ-lrVWqs"
      },
      "source": [
        "stopwords = set(STOPWORDS)\n",
        "# stopwords.update(['모집', '임대', '아파트', '행복'])"
      ],
      "execution_count": null,
      "outputs": []
    },
    {
      "cell_type": "code",
      "metadata": {
        "id": "pX-56_4RVWqs"
      },
      "source": [
        "wd_apt_1qt_cd = WordCloud(background_color = \"white\",max_font_size=180,mask=circle_mask,font_path='/content/drive/MyDrive/Colab Notebooks/sounds/malgun.ttf',stopwords=stopwords).generate(apt_cd_n_1qt)\n",
        "fig = plt.figure()\n",
        "plt.imshow(wd_apt_1qt_cd, interpolation='bilinear')\n",
        "plt.axis('off')\n",
        "wd_apt_1qt_cd.to_file(filename='/content/drive/MyDrive/Colab Notebooks/wordcloud_img/wd_apt_1qt_cd.jpg')"
      ],
      "execution_count": null,
      "outputs": []
    },
    {
      "cell_type": "markdown",
      "metadata": {
        "id": "wvnH2xHtXkzl"
      },
      "source": [
        "건의"
      ]
    },
    {
      "cell_type": "code",
      "metadata": {
        "id": "g0GiurqHXkzm"
      },
      "source": [
        "apt_rd_tolist_1qt = apt_rd_1qt.values.tolist()\n",
        "apt_rd_list_1qt = ''\n",
        "for i in apt_rd_tolist_1qt:\n",
        "  apt_rd_list_1qt += i"
      ],
      "execution_count": null,
      "outputs": []
    },
    {
      "cell_type": "code",
      "metadata": {
        "id": "mSf_0QPeXkzm"
      },
      "source": [
        "apt_rd_nouns_1qt = okt.nouns(apt_rd_list_1qt)\n",
        "apt_rd_n_1qt = ''\n",
        "for i in apt_rd_nouns_1qt:\n",
        "  apt_rd_n_1qt += i+' '"
      ],
      "execution_count": null,
      "outputs": []
    },
    {
      "cell_type": "code",
      "metadata": {
        "id": "L2m2WZP_Xkzn"
      },
      "source": [
        "apt_rd_nouns_count_1qt = Counter(apt_rd_nouns_1qt)\n",
        "apt_rd_nouns_count_1qt"
      ],
      "execution_count": null,
      "outputs": []
    },
    {
      "cell_type": "code",
      "metadata": {
        "id": "bvJs1YAvXkzn"
      },
      "source": [
        "stopwords = set(STOPWORDS)\n",
        "# stopwords.update(['모집', '임대', '아파트', '행복'])"
      ],
      "execution_count": null,
      "outputs": []
    },
    {
      "cell_type": "code",
      "metadata": {
        "id": "OPXm1l0nXkzn"
      },
      "source": [
        "wd_apt_1qt_rd = WordCloud(background_color = \"white\",max_font_size=250,mask=circle_mask,font_path='/content/drive/MyDrive/Colab Notebooks/sounds/malgun.ttf',stopwords=stopwords).generate(apt_rd_n_1qt)\n",
        "fig = plt.figure()\n",
        "plt.imshow(wd_apt_1qt_rd, interpolation='bilinear')\n",
        "plt.axis('off')\n",
        "wd_apt_1qt_rd.to_file(filename='/content/drive/MyDrive/Colab Notebooks/wordcloud_img/wd_apt_1qt_rd.jpg')"
      ],
      "execution_count": null,
      "outputs": []
    },
    {
      "cell_type": "markdown",
      "metadata": {
        "id": "TQkhhLC3Yvvw"
      },
      "source": [
        "### 2분기"
      ]
    },
    {
      "cell_type": "code",
      "metadata": {
        "id": "qtDWOY8OTE77"
      },
      "source": [
        "apt_question = data_apt[data_apt['type'] == \"질의\"]\n",
        "apt_question_2qt = apt_question[qt02]\n",
        "apt_qd_2qt = apt_question_2qt['detail']\n",
        "\n",
        "apt_check = data_apt[data_apt['type'] == \"확인\"]\n",
        "apt_check_2qt = apt_check[qt02]\n",
        "apt_cd_2qt = apt_check_2qt['detail']\n",
        "\n",
        "apt_request = data_apt[data_apt['type'] == \"건의\"]\n",
        "apt_request_2qt = apt_request[qt02]\n",
        "apt_rd_2qt = apt_request_2qt['detail']"
      ],
      "execution_count": null,
      "outputs": []
    },
    {
      "cell_type": "markdown",
      "metadata": {
        "id": "rYSYveKpQCXd"
      },
      "source": [
        "질의"
      ]
    },
    {
      "cell_type": "code",
      "metadata": {
        "id": "n8M1yFYbQCXs"
      },
      "source": [
        "apt_qd_tolist_2qt = apt_qd_2qt.values.tolist()\n",
        "apt_qd_list_2qt = ''\n",
        "for i in apt_qd_tolist_2qt:\n",
        "  apt_qd_list_2qt += i"
      ],
      "execution_count": null,
      "outputs": []
    },
    {
      "cell_type": "code",
      "metadata": {
        "id": "yO-e2lQBQCXs"
      },
      "source": [
        "apt_qd_nouns_2qt = okt.nouns(apt_qd_list_2qt)\n",
        "apt_qd_n_2qt = ''\n",
        "for i in apt_qd_nouns_2qt:\n",
        "  apt_qd_n_2qt += i+' '"
      ],
      "execution_count": null,
      "outputs": []
    },
    {
      "cell_type": "code",
      "metadata": {
        "id": "8fnxdUUHQCXt"
      },
      "source": [
        "apt_qd_nouns_count_2qt = Counter(apt_qd_nouns_2qt)\n",
        "apt_qd_nouns_count_2qt"
      ],
      "execution_count": null,
      "outputs": []
    },
    {
      "cell_type": "code",
      "metadata": {
        "id": "0MXq-1gPQCXt"
      },
      "source": [
        "stopwords = set(STOPWORDS)\n",
        "stopwords.update(['아파트', '행복'])"
      ],
      "execution_count": null,
      "outputs": []
    },
    {
      "cell_type": "code",
      "metadata": {
        "id": "PRymnQDJQCXt"
      },
      "source": [
        "wd_apt_2qt_qd = WordCloud(background_color = \"white\",max_font_size=200,mask=circle_mask,font_path='/content/drive/MyDrive/Colab Notebooks/sounds/malgun.ttf',stopwords=stopwords).generate(apt_qd_n_2qt)\n",
        "fig = plt.figure()\n",
        "plt.imshow(wd_apt_2qt_qd, interpolation='bilinear')\n",
        "plt.axis('off')\n",
        "wd_apt_2qt_qd.to_file(filename='/content/drive/MyDrive/Colab Notebooks/wordcloud_img/wd_apt_2qt_qd.jpg')"
      ],
      "execution_count": null,
      "outputs": []
    },
    {
      "cell_type": "markdown",
      "metadata": {
        "id": "u123IktASPBb"
      },
      "source": [
        "확인"
      ]
    },
    {
      "cell_type": "code",
      "metadata": {
        "id": "lAY6YGcMSPBn"
      },
      "source": [
        "apt_cd_tolist_2qt = apt_cd_2qt.values.tolist()\n",
        "apt_cd_list_2qt = ''\n",
        "for i in apt_cd_tolist_2qt:\n",
        "  apt_cd_list_2qt += i"
      ],
      "execution_count": null,
      "outputs": []
    },
    {
      "cell_type": "code",
      "metadata": {
        "id": "Q0WQ8AHISPBo"
      },
      "source": [
        "apt_cd_nouns_2qt = okt.nouns(apt_cd_list_2qt)\n",
        "apt_cd_n_2qt = ''\n",
        "for i in apt_cd_nouns_2qt:\n",
        "  apt_cd_n_2qt += i+' '"
      ],
      "execution_count": null,
      "outputs": []
    },
    {
      "cell_type": "code",
      "metadata": {
        "id": "pfyfmqhWSPBo"
      },
      "source": [
        "apt_cd_nouns_count_2qt = Counter(apt_cd_nouns_2qt)\n",
        "apt_cd_nouns_count_2qt"
      ],
      "execution_count": null,
      "outputs": []
    },
    {
      "cell_type": "code",
      "metadata": {
        "id": "qdv7DIGwSPBo"
      },
      "source": [
        "stopwords = set(STOPWORDS)\n",
        "# stopwords.update(['모집', '임대', '아파트', '행복'])"
      ],
      "execution_count": null,
      "outputs": []
    },
    {
      "cell_type": "code",
      "metadata": {
        "id": "9XQqT3LpSPBo"
      },
      "source": [
        "wd_apt_2qt_cd = WordCloud(background_color = \"white\",max_font_size=250,mask=circle_mask,font_path='/content/drive/MyDrive/Colab Notebooks/sounds/malgun.ttf',stopwords=stopwords).generate(apt_cd_n_2qt)\n",
        "fig = plt.figure()\n",
        "plt.imshow(wd_apt_2qt_cd, interpolation='bilinear')\n",
        "plt.axis('off')\n",
        "wd_apt_2qt_cd.to_file(filename='/content/drive/MyDrive/Colab Notebooks/wordcloud_img/wd_apt_2qt_cd.jpg')"
      ],
      "execution_count": null,
      "outputs": []
    },
    {
      "cell_type": "markdown",
      "metadata": {
        "id": "Qu8zFIp_T7Z0"
      },
      "source": [
        "건의"
      ]
    },
    {
      "cell_type": "code",
      "metadata": {
        "id": "6DlzZlEdT7aC"
      },
      "source": [
        "apt_rd_tolist_2qt = apt_rd_2qt.values.tolist()\n",
        "apt_rd_list_2qt = ''\n",
        "for i in apt_rd_tolist_2qt:\n",
        "  apt_rd_list_2qt += i"
      ],
      "execution_count": null,
      "outputs": []
    },
    {
      "cell_type": "code",
      "metadata": {
        "id": "TWPs_AY6T7aC"
      },
      "source": [
        "apt_rd_nouns_2qt = okt.nouns(apt_rd_list_2qt)\n",
        "apt_rd_n_2qt = ''\n",
        "for i in apt_rd_nouns_2qt:\n",
        "  apt_rd_n_2qt += i+' '"
      ],
      "execution_count": null,
      "outputs": []
    },
    {
      "cell_type": "code",
      "metadata": {
        "id": "c_fcH4DMT7aC"
      },
      "source": [
        "apt_rd_nouns_count_2qt = Counter(apt_rd_nouns_2qt)\n",
        "apt_rd_nouns_count_2qt"
      ],
      "execution_count": null,
      "outputs": []
    },
    {
      "cell_type": "code",
      "metadata": {
        "id": "kZz0XRhUT7aC"
      },
      "source": [
        "stopwords = set(STOPWORDS)\n",
        "# stopwords.update(['모집', '임대', '아파트', '행복'])"
      ],
      "execution_count": null,
      "outputs": []
    },
    {
      "cell_type": "code",
      "metadata": {
        "id": "iMQBKmLgT7aC"
      },
      "source": [
        "wd_apt_2qt_rd = WordCloud(background_color = \"white\",max_font_size=180,mask=circle_mask,\n",
        "                      font_path='/content/drive/MyDrive/Colab Notebooks/sounds/malgun.ttf',stopwords=stopwords).generate(apt_rd_n_2qt)\n",
        "fig = plt.figure()\n",
        "plt.imshow(wd_apt_2qt_rd, interpolation='bilinear')\n",
        "plt.axis('off')\n",
        "wd_apt_2qt_rd.to_file(filename='/content/drive/MyDrive/Colab Notebooks/wordcloud_img/wd_apt_2qt_rd.jpg')"
      ],
      "execution_count": null,
      "outputs": []
    },
    {
      "cell_type": "markdown",
      "metadata": {
        "id": "z6dgZ5MSVlyB"
      },
      "source": [
        "### 3분기"
      ]
    },
    {
      "cell_type": "code",
      "metadata": {
        "id": "OSNiVI-DVlyI"
      },
      "source": [
        "apt_question = data_apt[data_apt['type'] == \"질의\"]\n",
        "apt_question_3qt = apt_question[qt03]\n",
        "apt_qd_3qt = apt_question_3qt['detail']\n",
        "\n",
        "apt_check = data_apt[data_apt['type'] == \"확인\"]\n",
        "apt_check_3qt = apt_check[qt03]\n",
        "apt_cd_3qt = apt_check_3qt['detail']\n",
        "\n",
        "apt_request = data_apt[data_apt['type'] == \"건의\"]\n",
        "apt_request_3qt = apt_request[qt03]\n",
        "apt_rd_3qt = apt_request_3qt['detail']"
      ],
      "execution_count": null,
      "outputs": []
    },
    {
      "cell_type": "markdown",
      "metadata": {
        "id": "MLX1vF6LVlyJ"
      },
      "source": [
        "질의(= 0)"
      ]
    },
    {
      "cell_type": "code",
      "metadata": {
        "id": "ZaE4pd94VlyJ"
      },
      "source": [
        "apt_qd_tolist_3qt = apt_qd_3qt.values.tolist()\n",
        "apt_qd_list_3qt = ''\n",
        "for i in apt_qd_tolist_3qt:\n",
        "  apt_qd_list_3qt += i"
      ],
      "execution_count": null,
      "outputs": []
    },
    {
      "cell_type": "code",
      "metadata": {
        "id": "0BrQOm4DVlyJ"
      },
      "source": [
        "apt_qd_nouns_3qt = okt.nouns(apt_qd_list_3qt)\n",
        "apt_qd_n_3qt = ''\n",
        "for i in apt_qd_nouns_3qt:\n",
        "  apt_qd_n_3qt += i+' '"
      ],
      "execution_count": null,
      "outputs": []
    },
    {
      "cell_type": "code",
      "metadata": {
        "id": "T2sC4t2LVlyJ"
      },
      "source": [
        "apt_qd_nouns_count_3qt = Counter(apt_qd_nouns_3qt)\n",
        "apt_qd_nouns_count_3qt"
      ],
      "execution_count": null,
      "outputs": []
    },
    {
      "cell_type": "code",
      "metadata": {
        "id": "9T6dRphoVlyJ"
      },
      "source": [
        "stopwords = set(STOPWORDS)\n",
        "# stopwords.update(['모집', '임대', '아파트', '행복'])"
      ],
      "execution_count": null,
      "outputs": []
    },
    {
      "cell_type": "code",
      "metadata": {
        "id": "S34AVMvKVlyJ"
      },
      "source": [
        "wd_apt_3qt_qd = WordCloud(background_color = \"white\",max_font_size=100,font_path='/content/drive/MyDrive/Colab Notebooks/sounds/malgun.ttf',stopwords=stopwords).generate(apt_qd_n_3qt)\n",
        "fig = plt.figure()\n",
        "plt.imshow(wd_apt_3pt_qd, interpolation='bilinear')\n",
        "plt.axis('off')\n",
        "wd_apt_3qt_qd.to_file(filename='/content/drive/MyDrive/Colab Notebooks/wordcloud_img/wd_apt_3qt_qd.jpg')"
      ],
      "execution_count": null,
      "outputs": []
    },
    {
      "cell_type": "markdown",
      "metadata": {
        "id": "RPcHEJ58VlyJ"
      },
      "source": [
        "확인"
      ]
    },
    {
      "cell_type": "code",
      "metadata": {
        "id": "WFSCGq8yVlyJ"
      },
      "source": [
        "apt_cd_tolist_3qt = apt_cd_3qt.values.tolist()\n",
        "apt_cd_list_3qt = ''\n",
        "for i in apt_cd_tolist_3qt:\n",
        "  apt_cd_list_3qt += i"
      ],
      "execution_count": null,
      "outputs": []
    },
    {
      "cell_type": "code",
      "metadata": {
        "id": "JhVk_fWGVlyJ"
      },
      "source": [
        "apt_cd_nouns_3qt = okt.nouns(apt_cd_list_3qt)\n",
        "apt_cd_n_3qt = ''\n",
        "for i in apt_cd_nouns_3qt:\n",
        "  apt_cd_n_3qt += i+' '"
      ],
      "execution_count": null,
      "outputs": []
    },
    {
      "cell_type": "code",
      "metadata": {
        "id": "p9iDK37nVlyK"
      },
      "source": [
        "apt_cd_nouns_count_3qt = Counter(apt_cd_nouns_3qt)\n",
        "apt_cd_nouns_count_3qt"
      ],
      "execution_count": null,
      "outputs": []
    },
    {
      "cell_type": "code",
      "metadata": {
        "id": "A7M1n_AuVlyK"
      },
      "source": [
        "stopwords = set(STOPWORDS)\n",
        "# stopwords.update(['모집', '임대', '아파트', '행복'])"
      ],
      "execution_count": null,
      "outputs": []
    },
    {
      "cell_type": "code",
      "metadata": {
        "id": "zp6WJMTiVlyK"
      },
      "source": [
        "wd_apt_3qt_cd = WordCloud(background_color = \"white\",max_font_size=100,font_path='/content/drive/MyDrive/Colab Notebooks/sounds/malgun.ttf',stopwords=stopwords).generate(apt_cd_n_3qt)\n",
        "fig = plt.figure()\n",
        "plt.imshow(wd_apt_3qt_cd, interpolation='bilinear')\n",
        "plt.axis('off')\n",
        "wd_apt_3qt_cd.to_file(filename='/content/drive/MyDrive/Colab Notebooks/wordcloud_img/wd_apt_3qt_cd.jpg')"
      ],
      "execution_count": null,
      "outputs": []
    },
    {
      "cell_type": "markdown",
      "metadata": {
        "id": "FB5X5UUpVlyK"
      },
      "source": [
        "건의(=0)"
      ]
    },
    {
      "cell_type": "code",
      "metadata": {
        "id": "3lbTx6ZwVlyK"
      },
      "source": [
        "apt_rd_tolist_3qt = apt_rd_3qt.values.tolist()\n",
        "apt_rd_list_3qt = ''\n",
        "for i in apt_rd_tolist_3qt:\n",
        "  apt_rd_list_3qt += i"
      ],
      "execution_count": null,
      "outputs": []
    },
    {
      "cell_type": "code",
      "metadata": {
        "id": "hMs2nbSrVlyK"
      },
      "source": [
        "apt_rd_nouns_3qt = okt.nouns(apt_rd_list_3qt)\n",
        "apt_rd_n_3qt = ''\n",
        "for i in apt_rd_nouns_3qt:\n",
        "  apt_rd_n_3qt += i+' '"
      ],
      "execution_count": null,
      "outputs": []
    },
    {
      "cell_type": "code",
      "metadata": {
        "id": "GMOtx5tyVlyK"
      },
      "source": [
        "apt_rd_nouns_count_3qt = Counter(apt_rd_nouns_3qt)\n",
        "apt_rd_nouns_count_3qt"
      ],
      "execution_count": null,
      "outputs": []
    },
    {
      "cell_type": "code",
      "metadata": {
        "id": "s6I4fI6mVlyK"
      },
      "source": [
        "stopwords = set(STOPWORDS)\n",
        "# stopwords.update(['모집', '임대', '아파트', '행복'])"
      ],
      "execution_count": null,
      "outputs": []
    },
    {
      "cell_type": "code",
      "metadata": {
        "id": "CiaZkbDHVlyK"
      },
      "source": [
        "wd_apt_3qt_rd = WordCloud(background_color = \"white\",max_font_size=80,font_path='/content/drive/MyDrive/Colab Notebooks/sounds/malgun.ttf',stopwords=stopwords).generate(apt_rd_n_3qt)\n",
        "fig = plt.figure()\n",
        "plt.imshow(wd_apt_3qt_rd, interpolation='bilinear')\n",
        "plt.axis('off')\n",
        "wd_apt_3qt_rd.to_file(filename='/content/drive/MyDrive/Colab Notebooks/wordcloud_img/wd_apt_3qt_rd.jpg')"
      ],
      "execution_count": null,
      "outputs": []
    }
  ]
}
