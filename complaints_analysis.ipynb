{
  "nbformat": 4,
  "nbformat_minor": 0,
  "metadata": {
    "colab": {
      "name": "complaints_analysis.ipynb",
      "provenance": [],
      "collapsed_sections": [],
      "mount_file_id": "1vv5-33MnxVwF3Q4dmzL1Txaz71Yud4zc",
      "authorship_tag": "ABX9TyMrh+nKtQzuqKnKhLadO5Yr"
    },
    "kernelspec": {
      "name": "python3",
      "display_name": "Python 3"
    },
    "language_info": {
      "name": "python"
    }
  },
  "cells": [
    {
      "cell_type": "code",
      "metadata": {
        "id": "ah6Sq08h6xsv",
        "colab": {
          "base_uri": "https://localhost:8080/"
        },
        "outputId": "dbdcf5f8-98dc-407e-b2da-5a1e550a95d2"
      },
      "source": [
        "pip install konlpy"
      ],
      "execution_count": null,
      "outputs": [
        {
          "output_type": "stream",
          "name": "stdout",
          "text": [
            "Collecting konlpy\n",
            "  Downloading konlpy-0.5.2-py2.py3-none-any.whl (19.4 MB)\n",
            "\u001b[K     |████████████████████████████████| 19.4 MB 1.2 MB/s \n",
            "\u001b[?25hCollecting beautifulsoup4==4.6.0\n",
            "  Downloading beautifulsoup4-4.6.0-py3-none-any.whl (86 kB)\n",
            "\u001b[K     |████████████████████████████████| 86 kB 5.8 MB/s \n",
            "\u001b[?25hRequirement already satisfied: lxml>=4.1.0 in /usr/local/lib/python3.7/dist-packages (from konlpy) (4.2.6)\n",
            "Requirement already satisfied: tweepy>=3.7.0 in /usr/local/lib/python3.7/dist-packages (from konlpy) (3.10.0)\n",
            "Collecting colorama\n",
            "  Downloading colorama-0.4.4-py2.py3-none-any.whl (16 kB)\n",
            "Requirement already satisfied: numpy>=1.6 in /usr/local/lib/python3.7/dist-packages (from konlpy) (1.19.5)\n",
            "Collecting JPype1>=0.7.0\n",
            "  Downloading JPype1-1.3.0-cp37-cp37m-manylinux_2_5_x86_64.manylinux1_x86_64.whl (448 kB)\n",
            "\u001b[K     |████████████████████████████████| 448 kB 46.2 MB/s \n",
            "\u001b[?25hRequirement already satisfied: typing-extensions in /usr/local/lib/python3.7/dist-packages (from JPype1>=0.7.0->konlpy) (3.10.0.2)\n",
            "Requirement already satisfied: requests[socks]>=2.11.1 in /usr/local/lib/python3.7/dist-packages (from tweepy>=3.7.0->konlpy) (2.23.0)\n",
            "Requirement already satisfied: six>=1.10.0 in /usr/local/lib/python3.7/dist-packages (from tweepy>=3.7.0->konlpy) (1.15.0)\n",
            "Requirement already satisfied: requests-oauthlib>=0.7.0 in /usr/local/lib/python3.7/dist-packages (from tweepy>=3.7.0->konlpy) (1.3.0)\n",
            "Requirement already satisfied: oauthlib>=3.0.0 in /usr/local/lib/python3.7/dist-packages (from requests-oauthlib>=0.7.0->tweepy>=3.7.0->konlpy) (3.1.1)\n",
            "Requirement already satisfied: urllib3!=1.25.0,!=1.25.1,<1.26,>=1.21.1 in /usr/local/lib/python3.7/dist-packages (from requests[socks]>=2.11.1->tweepy>=3.7.0->konlpy) (1.24.3)\n",
            "Requirement already satisfied: idna<3,>=2.5 in /usr/local/lib/python3.7/dist-packages (from requests[socks]>=2.11.1->tweepy>=3.7.0->konlpy) (2.10)\n",
            "Requirement already satisfied: certifi>=2017.4.17 in /usr/local/lib/python3.7/dist-packages (from requests[socks]>=2.11.1->tweepy>=3.7.0->konlpy) (2021.10.8)\n",
            "Requirement already satisfied: chardet<4,>=3.0.2 in /usr/local/lib/python3.7/dist-packages (from requests[socks]>=2.11.1->tweepy>=3.7.0->konlpy) (3.0.4)\n",
            "Requirement already satisfied: PySocks!=1.5.7,>=1.5.6 in /usr/local/lib/python3.7/dist-packages (from requests[socks]>=2.11.1->tweepy>=3.7.0->konlpy) (1.7.1)\n",
            "Installing collected packages: JPype1, colorama, beautifulsoup4, konlpy\n",
            "  Attempting uninstall: beautifulsoup4\n",
            "    Found existing installation: beautifulsoup4 4.6.3\n",
            "    Uninstalling beautifulsoup4-4.6.3:\n",
            "      Successfully uninstalled beautifulsoup4-4.6.3\n",
            "Successfully installed JPype1-1.3.0 beautifulsoup4-4.6.0 colorama-0.4.4 konlpy-0.5.2\n"
          ]
        }
      ]
    },
    {
      "cell_type": "code",
      "metadata": {
        "id": "GWSqFPbxk24d"
      },
      "source": [
        "import pandas as pd\n",
        "import numpy as np\n",
        "import seaborn as sns\n",
        "from konlpy.tag import Okt\n",
        "from wordcloud import WordCloud, ImageColorGenerator, STOPWORDS\n",
        "import matplotlib.pyplot as plt\n",
        "%matplotlib inline\n",
        "okt = Okt()\n",
        "import matplotlib.font_manager as fm\n",
        "import re\n",
        "from PIL import Image\n",
        "from io import BytesIO \n",
        "from datetime import datetime\n",
        "from collections import Counter"
      ],
      "execution_count": null,
      "outputs": []
    },
    {
      "cell_type": "code",
      "metadata": {
        "id": "DJt2vFHYk7u5"
      },
      "source": [
        "labels = ['title','question','answer','date','agency','code','category','address']\n",
        "raw_data = pd.read_csv('/content/drive/MyDrive/국민권익위원회 경진 대회 데이터.csv',encoding='utf-8')\n",
        "raw_data.head()"
      ],
      "execution_count": null,
      "outputs": []
    },
    {
      "cell_type": "code",
      "metadata": {
        "id": "Gw36WtJfnvHc"
      },
      "source": [
        "data_q = raw_data['질문내용']\n",
        "data_q_tolist = data_q.values.tolist()\n",
        "data_q_list = ''\n",
        "for i in data_q_tolist:\n",
        "  data_q_list += str(i)\n",
        "data_q_nouns = okt.nouns(data_q_list)\n",
        "data_q_n = ''\n",
        "for i in data_q_nouns:\n",
        "  data_q_n += i+' '\n",
        "data_q_nouns_count = Counter(data_q_nouns)"
      ],
      "execution_count": null,
      "outputs": []
    },
    {
      "cell_type": "code",
      "metadata": {
        "id": "R9y6uCWzBg1O",
        "colab": {
          "base_uri": "https://localhost:8080/"
        },
        "outputId": "0f43e525-bf5f-483b-9c98-db98ba4df9b9"
      },
      "source": [
        "data_q_nouns_count.most_common(30)"
      ],
      "execution_count": null,
      "outputs": [
        {
          "output_type": "execute_result",
          "data": {
            "text/plain": [
              "[('경우', 8554),\n",
              " ('수', 8305),\n",
              " ('신청', 6295),\n",
              " ('및', 6293),\n",
              " ('것', 5731),\n",
              " ('신고', 5434),\n",
              " ('알', 5200),\n",
              " ('하나요', 4961),\n",
              " ('등', 4917),\n",
              " ('제', 4710),\n",
              " ('무엇', 4676),\n",
              " ('사업', 4580),\n",
              " ('시', 4494),\n",
              " ('시설', 4460),\n",
              " ('방법', 4349),\n",
              " ('관련', 4317),\n",
              " ('문의', 3991),\n",
              " ('사용', 3894),\n",
              " ('학교', 3292),\n",
              " ('대해', 3210),\n",
              " ('기준', 3188),\n",
              " ('관리', 3149),\n",
              " ('처리', 3122),\n",
              " ('변경', 3081),\n",
              " ('등록', 3080),\n",
              " ('절차', 3051),\n",
              " ('허가', 2980),\n",
              " ('대한', 2890),\n",
              " ('설치', 2831),\n",
              " ('내용', 2785)]"
            ]
          },
          "metadata": {},
          "execution_count": 5
        }
      ]
    },
    {
      "cell_type": "code",
      "metadata": {
        "id": "xGUi_v0OzB-9"
      },
      "source": [
        "stopwords = set(STOPWORDS)\n",
        "# stopwords.update(['경우','문의','현재','해당','무엇','대한','사용','대해','기준','확인','하나요','관련','사람','방법','대하','신청','세부내용','처리여부','이용','이상','언제','위해','생각','설치','세부 내용','세부','내용'])"
      ],
      "execution_count": null,
      "outputs": []
    },
    {
      "cell_type": "code",
      "metadata": {
        "id": "WgAX1Jffv0mQ"
      },
      "source": [
        "circle_mask = np.array(Image.open('/content/drive/MyDrive/Colab Notebooks/circle_img.jpg'))"
      ],
      "execution_count": null,
      "outputs": []
    },
    {
      "cell_type": "code",
      "metadata": {
        "colab": {
          "base_uri": "https://localhost:8080/",
          "height": 266
        },
        "id": "ICzX3RKGutKI",
        "outputId": "a5a6e79f-d382-482d-80d9-2f80473666c5"
      },
      "source": [
        "wd_data_q = WordCloud(background_color = \"white\",max_font_size=250,mask=circle_mask,\n",
        "                          font_path='/content/drive/MyDrive/Colab Notebooks/sounds/malgun.ttf',stopwords=stopwords).generate(data_q_n)\n",
        "fig = plt.figure()\n",
        "plt.imshow(wd_data_q, interpolation='bilinear')\n",
        "plt.axis('off')\n",
        "wd_data_q.to_file(filename='/content/drive/MyDrive/Colab Notebooks/wordcloud_img/wd_data_q3.jpg')"
      ],
      "execution_count": null,
      "outputs": [
        {
          "output_type": "execute_result",
          "data": {
            "text/plain": [
              "<wordcloud.wordcloud.WordCloud at 0x7f52a8b05bd0>"
            ]
          },
          "metadata": {},
          "execution_count": 8
        },
        {
          "output_type": "display_data",
          "data": {
            "image/png": "[encoded data removed]",
            "text/plain": [
              "<Figure size 432x288 with 1 Axes>"
            ]
          },
          "metadata": {
            "needs_background": "light"
          }
        }
      ]
    },
    {
      "cell_type": "code",
      "metadata": {
        "id": "qZQuZMC5XxVa"
      },
      "source": [
        "sample_data = raw_data"
      ],
      "execution_count": null,
      "outputs": []
    },
    {
      "cell_type": "code",
      "metadata": {
        "id": "K93Eypi06eZr"
      },
      "source": [
        "sample_data['등록일시']=sample_data['1']+\" \"+sample_data['2']\n",
        "sample_data.drop(['1','2'],axis=1,inplace=True)\n",
        "sample_data.head()"
      ],
      "execution_count": null,
      "outputs": []
    },
    {
      "cell_type": "code",
      "metadata": {
        "id": "st_k22I66IAh"
      },
      "source": [
        "sample_data['일시']=pd.to_datetime(sample_data['일시'],infer_datetime_format=True,errors='coerce')"
      ],
      "execution_count": null,
      "outputs": []
    },
    {
      "cell_type": "code",
      "metadata": {
        "id": "e3TROz7BNf0c"
      },
      "source": [
        "sample_data['등록일시']=pd.to_datetime(sample_data['등록일시'],infer_datetime_format=True,errors='coerce')"
      ],
      "execution_count": null,
      "outputs": []
    },
    {
      "cell_type": "code",
      "metadata": {
        "id": "OdIVg8E8QHJx"
      },
      "source": [
        "sample_data['시 분']=sample_data['일시'].dt.time\n",
        "sample_data['요일']=sample_data['등록일시'].dt.day_name()\n",
        "sample_data.head()"
      ],
      "execution_count": null,
      "outputs": []
    },
    {
      "cell_type": "code",
      "metadata": {
        "id": "5xWxsrZGCfX3"
      },
      "source": [
        "sorted(sample_data['시 분'],reverse=True)"
      ],
      "execution_count": null,
      "outputs": []
    },
    {
      "cell_type": "code",
      "metadata": {
        "id": "CrpYnkJzIt4i"
      },
      "source": [
        "sample_data_Mon=sample_data[sample_data['요일']==\"Monday\"]\n",
        "sample_data_Tue=sample_data[sample_data['요일']==\"Tuesday\"]\n",
        "sample_data_Wed=sample_data[sample_data['요일']==\"Wednesday\"]\n",
        "sample_data_Thu=sample_data[sample_data['요일']=='Thursday']\n",
        "sample_data_Fri=sample_data[sample_data['요일']==\"Friday\"]\n",
        "sample_data_Sat=sample_data[sample_data['요일']==\"Saturday\"]\n",
        "sample_data_Sun=sample_data[sample_data['요일']==\"Sunday\"]"
      ],
      "execution_count": null,
      "outputs": []
    },
    {
      "cell_type": "code",
      "metadata": {
        "id": "hSHv0h3ZJgy5"
      },
      "source": [
        "sdM_q = sample_data_Mon['질문내용']\n",
        "sdM_q_tolist = sdM_q.values.tolist()\n",
        "sdM_q_list = ''\n",
        "for i in sdM_q_tolist:\n",
        "  sdM_q_list += str(i)\n",
        "sdM_q_nouns = okt.nouns(sdM_q_list)\n",
        "sdM_q_n = ''\n",
        "for i in sdM_q_nouns:\n",
        "  sdM_q_n += i+' '\n",
        "sdM_q_nouns_count = Counter(sdM_q_nouns)"
      ],
      "execution_count": null,
      "outputs": []
    },
    {
      "cell_type": "code",
      "metadata": {
        "id": "1Gl9xRdQK03J",
        "colab": {
          "base_uri": "https://localhost:8080/"
        },
        "outputId": "f9be271f-9f2b-4c44-d809-7a3ecdb0b885"
      },
      "source": [
        "sdM_q_nouns_count.most_common(30)"
      ],
      "execution_count": null,
      "outputs": [
        {
          "output_type": "execute_result",
          "data": {
            "text/plain": [
              "[('수', 1319),\n",
              " ('경우', 1177),\n",
              " ('신청', 1056),\n",
              " ('것', 944),\n",
              " ('및', 877),\n",
              " ('알', 850),\n",
              " ('제', 811),\n",
              " ('하나요', 793),\n",
              " ('신고', 748),\n",
              " ('등', 746),\n",
              " ('관련', 709),\n",
              " ('문의', 701),\n",
              " ('무엇', 689),\n",
              " ('시', 666),\n",
              " ('방법', 644),\n",
              " ('사용', 615),\n",
              " ('학교', 599),\n",
              " ('사업', 584),\n",
              " ('등록', 556),\n",
              " ('대해', 540),\n",
              " ('절차', 502),\n",
              " ('변경', 500),\n",
              " ('내용', 484),\n",
              " ('서류', 472),\n",
              " ('관리', 459),\n",
              " ('확인', 442),\n",
              " ('후', 440),\n",
              " ('발급', 426),\n",
              " ('기준', 408),\n",
              " ('중', 401)]"
            ]
          },
          "metadata": {},
          "execution_count": 17
        }
      ]
    },
    {
      "cell_type": "code",
      "metadata": {
        "id": "NauXn_9lLWQI"
      },
      "source": [
        "sdT_q = sample_data_Tue['질문내용']\n",
        "sdT_q_tolist = sdT_q.values.tolist()\n",
        "sdT_q_list = ''\n",
        "for i in sdT_q_tolist:\n",
        "  sdT_q_list += str(i)\n",
        "sdT_q_nouns = okt.nouns(sdT_q_list)\n",
        "sdT_q_n = ''\n",
        "for i in sdT_q_nouns:\n",
        "  sdT_q_n += i+' '\n",
        "sdT_q_nouns_count = Counter(sdT_q_nouns)"
      ],
      "execution_count": null,
      "outputs": []
    },
    {
      "cell_type": "code",
      "metadata": {
        "id": "V2-NQyWTLY88"
      },
      "source": [
        "sdT_q_nouns_count.most_common(30)"
      ],
      "execution_count": null,
      "outputs": []
    },
    {
      "cell_type": "code",
      "metadata": {
        "id": "JD5CO6gSLybQ"
      },
      "source": [
        "sdW_q = sample_data_Wed['질문내용']\n",
        "sdW_q_tolist = sdW_q.values.tolist()\n",
        "sdW_q_list = ''\n",
        "for i in sdW_q_tolist:\n",
        "  sdW_q_list += str(i)\n",
        "sdW_q_nouns = okt.nouns(sdW_q_list)\n",
        "sdW_q_n = ''\n",
        "for i in sdW_q_nouns:\n",
        "  sdW_q_n += i+' '\n",
        "sdW_q_nouns_count = Counter(sdW_q_nouns)"
      ],
      "execution_count": null,
      "outputs": []
    },
    {
      "cell_type": "code",
      "metadata": {
        "id": "yVDW3rblMPGb"
      },
      "source": [
        "sdW_q_nouns_count.most_common(30)"
      ],
      "execution_count": null,
      "outputs": []
    },
    {
      "cell_type": "code",
      "metadata": {
        "id": "D5RpAThAMRG1"
      },
      "source": [
        "sdTh_q = sample_data_Thu['질문내용']\n",
        "sdTh_q_tolist = sdTh_q.values.tolist()\n",
        "sdTh_q_list = ''\n",
        "for i in sdTh_q_tolist:\n",
        "  sdTh_q_list += str(i)\n",
        "sdTh_q_nouns = okt.nouns(sdTh_q_list)\n",
        "sdTh_q_n = ''\n",
        "for i in sdTh_q_nouns:\n",
        "  sdTh_q_n += i+' '\n",
        "sdTh_q_nouns_count = Counter(sdTh_q_nouns)"
      ],
      "execution_count": null,
      "outputs": []
    },
    {
      "cell_type": "code",
      "metadata": {
        "id": "ZIGu4Px-M115"
      },
      "source": [
        "sdTh_q_nouns_count.most_common(30)"
      ],
      "execution_count": null,
      "outputs": []
    },
    {
      "cell_type": "code",
      "metadata": {
        "id": "LmMDBu9MM4OK"
      },
      "source": [
        "sdF_q = sample_data_Fri['질문내용']\n",
        "sdF_q_tolist = sdF_q.values.tolist()\n",
        "sdF_q_list = ''\n",
        "for i in sdF_q_tolist:\n",
        "  sdF_q_list += str(i)\n",
        "sdF_q_nouns = okt.nouns(sdF_q_list)\n",
        "sdF_q_n = ''\n",
        "for i in sdF_q_nouns:\n",
        "  sdF_q_n += i+' '\n",
        "sdF_q_nouns_count = Counter(sdF_q_nouns)"
      ],
      "execution_count": null,
      "outputs": []
    },
    {
      "cell_type": "code",
      "metadata": {
        "id": "7JU5NzqXNTIQ"
      },
      "source": [
        "sdF_q_nouns_count.most_common(30)"
      ],
      "execution_count": null,
      "outputs": []
    },
    {
      "cell_type": "code",
      "metadata": {
        "id": "NXptkp0aNUsq"
      },
      "source": [
        "sdS_q = sample_data_Sat['질문내용']\n",
        "sdS_q_tolist = sdS_q.values.tolist()\n",
        "sdS_q_list = ''\n",
        "for i in sdS_q_tolist:\n",
        "  sdS_q_list += str(i)\n",
        "sdS_q_nouns = okt.nouns(sdS_q_list)\n",
        "sdS_q_n = ''\n",
        "for i in sdS_q_nouns:\n",
        "  sdS_q_n += i+' '\n",
        "sdS_q_nouns_count = Counter(sdS_q_nouns)"
      ],
      "execution_count": null,
      "outputs": []
    },
    {
      "cell_type": "code",
      "metadata": {
        "id": "S8EDyyddNzFI"
      },
      "source": [
        "sdS_q_nouns_count.most_common(30)"
      ],
      "execution_count": null,
      "outputs": []
    },
    {
      "cell_type": "code",
      "metadata": {
        "id": "ccPJ0MRwN1jO"
      },
      "source": [
        "sdSu_q = sample_data_Sun['질문내용']\n",
        "sdSu_q_tolist = sdSu_q.values.tolist()\n",
        "sdSu_q_list = ''\n",
        "for i in sdSu_q_tolist:\n",
        "  sdSu_q_list += str(i)\n",
        "sdSu_q_nouns = okt.nouns(sdSu_q_list)\n",
        "sdSu_q_n = ''\n",
        "for i in sdSu_q_nouns:\n",
        "  sdSu_q_n += i+' '\n",
        "sdSu_q_nouns_count = Counter(sdSu_q_nouns)"
      ],
      "execution_count": null,
      "outputs": []
    },
    {
      "cell_type": "code",
      "metadata": {
        "id": "p26aprBxOM6F"
      },
      "source": [
        "sdSu_q_nouns_count.most_common(30)"
      ],
      "execution_count": null,
      "outputs": []
    },
    {
      "cell_type": "code",
      "metadata": {
        "id": "QWNPDUQGLsC1"
      },
      "source": [
        "# 시간대별 민원 내용\n",
        "# 다수 민원키워드 답변키워드 : 텍스트 분석해서 많은 것들 필터링\n",
        "# 요일별 민원키워드"
      ],
      "execution_count": null,
      "outputs": []
    }
  ]
}