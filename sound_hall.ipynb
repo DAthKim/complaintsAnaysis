{
  "nbformat": 4,
  "nbformat_minor": 0,
  "metadata": {
    "colab": {
      "name": "sound_hall.ipynb",
      "provenance": [],
      "collapsed_sections": [],
      "mount_file_id": "1ANsiK8jphkSWR2VW0gH0oc-x5xZb-ko2",
      "authorship_tag": "ABX9TyOHzprhqMKdaVnHX1BO4O5K"
    },
    "kernelspec": {
      "name": "python3",
      "display_name": "Python 3"
    },
    "language_info": {
      "name": "python"
    }
  },
  "cells": [
    {
      "cell_type": "code",
      "metadata": {
        "id": "4qHf0nxK02YU"
      },
      "source": [
        "pip install konlpy"
      ],
      "execution_count": null,
      "outputs": []
    },
    {
      "cell_type": "code",
      "metadata": {
        "id": "1VKSV-wOiBqj"
      },
      "source": [
        "import pandas as pd\n",
        "import numpy as np\n",
        "from konlpy.tag import Okt\n",
        "from wordcloud import WordCloud, ImageColorGenerator, STOPWORDS\n",
        "import matplotlib.pyplot as plt\n",
        "%matplotlib inline\n",
        "okt = Okt()\n",
        "import matplotlib.font_manager as fm\n",
        "import re\n",
        "from PIL import Image\n",
        "from io import BytesIO \n",
        "import datetime\n",
        "from collections import Counter"
      ],
      "execution_count": null,
      "outputs": []
    },
    {
      "cell_type": "code",
      "metadata": {
        "id": "FdywTozLiRit"
      },
      "source": [
        "labels = ['place','date','messenger','category','type','due','summary','name','phone','email','detail','receive','address','end','period','address_detail','result','result_detail','sign','etc']\n",
        "data_hall = pd.read_csv('/content/drive/MyDrive/Colab Notebooks/sounds/sounds_place_hall.csv', names = labels, encoding='cp949')\n",
        "data_hall.head()"
      ],
      "execution_count": null,
      "outputs": []
    },
    {
      "cell_type": "code",
      "metadata": {
        "id": "RiejVyxnPopP"
      },
      "source": [
        "circle_mask = np.array(Image.open('/content/drive/MyDrive/Colab Notebooks/circle_img.jpg'))"
      ],
      "execution_count": null,
      "outputs": []
    },
    {
      "cell_type": "code",
      "metadata": {
        "id": "LH8zQq2aL9ql"
      },
      "source": [
        "hall_detail = data_hall['detail']\n",
        "hall_d_tolist = hall_detail.values.tolist()\n",
        "hall_d_list = ''\n",
        "for i in hall_d_tolist:\n",
        "  hall_d_list += i\n",
        "hall_d_nouns = okt.nouns(hall_d_list)\n",
        "hall_d_n = ''\n",
        "for i in hall_d_nouns:\n",
        "  hall_d_n += i+' '\n",
        "hall_d_nouns_count = Counter(hall_d_nouns)\n",
        "stopwords = set(STOPWORDS)\n",
        "stopwords.update(['지방자치','회관'])"
      ],
      "execution_count": null,
      "outputs": []
    },
    {
      "cell_type": "code",
      "metadata": {
        "id": "cE31WDpYMcDI"
      },
      "source": [
        "wd_hall_d = WordCloud(max_font_size=200,background_color=\"white\",mask=circle_mask,font_path='/content/drive/MyDrive/Colab Notebooks/sounds/malgun.ttf',stopwords=stopwords).generate(hall_d_n)\n",
        "fig = plt.figure()\n",
        "plt.imshow(wd_hall_d, interpolation='bilinear')\n",
        "plt.axis('off')\n",
        "wd_hall_d.to_file(filename='/content/drive/MyDrive/Colab Notebooks/wordcloud_img/wd_hall_d.jpg')"
      ],
      "execution_count": null,
      "outputs": []
    },
    {
      "cell_type": "code",
      "metadata": {
        "id": "GpdBl10EtRzr"
      },
      "source": [
        "hall_question = data_hall[data_hall['type'] == \"질의\"]\n",
        "hall_question_detail = hall_question['detail']\n",
        "\n",
        "hall_check = data_hall[data_hall['type'] == \"확인\"]\n",
        "hall_check_detail = hall_check['detail']\n",
        "\n",
        "hall_request = data_hall[data_hall['type'] == \"건의\"]\n",
        "hall_request_detail = hall_request['detail']"
      ],
      "execution_count": null,
      "outputs": []
    },
    {
      "cell_type": "markdown",
      "metadata": {
        "id": "HlnVffZVMNx9"
      },
      "source": [
        "질의"
      ]
    },
    {
      "cell_type": "code",
      "metadata": {
        "id": "hguVNBbpeFnC"
      },
      "source": [
        "hall_qd_tolist = hall_question_detail.values.tolist()\n",
        "hall_qd_list = ''\n",
        "for i in hall_qd_tolist:\n",
        "  hall_qd_list += i"
      ],
      "execution_count": null,
      "outputs": []
    },
    {
      "cell_type": "code",
      "metadata": {
        "id": "sO-G4dTvIKST"
      },
      "source": [
        "hall_qd_nouns = okt.nouns(hall_qd_list)\n",
        "hall_qd_n = ''\n",
        "for i in hall_qd_nouns:\n",
        "  hall_qd_n += i+' '"
      ],
      "execution_count": null,
      "outputs": []
    },
    {
      "cell_type": "code",
      "metadata": {
        "id": "Oo0dyXx7qqY5"
      },
      "source": [
        "hall_qd_nouns_count = Counter(hall_qd_nouns)\n",
        "hall_qd_nouns_count"
      ],
      "execution_count": null,
      "outputs": []
    },
    {
      "cell_type": "code",
      "metadata": {
        "id": "vN35SalkMVKu"
      },
      "source": [
        "stopwords = set(STOPWORDS)\n",
        "stopwords.update(['지방자치','회관'])"
      ],
      "execution_count": null,
      "outputs": []
    },
    {
      "cell_type": "code",
      "metadata": {
        "id": "itbGy5cuGAUQ"
      },
      "source": [
        "wd_hall_qd = WordCloud(max_font_size=250,background_color=\"white\",mask=circle_mask,font_path='/content/drive/MyDrive/Colab Notebooks/sounds/malgun.ttf',stopwords=stopwords).generate(hall_qd_n)\n",
        "fig = plt.figure()\n",
        "plt.imshow(wd_hall_qd, interpolation='bilinear')\n",
        "plt.axis('off')\n",
        "wd_hall_qd.to_file(filename='/content/drive/MyDrive/Colab Notebooks/wordcloud_img/wd_hall_qd.jpg')"
      ],
      "execution_count": null,
      "outputs": []
    },
    {
      "cell_type": "markdown",
      "metadata": {
        "id": "0c13DBGVMSEU"
      },
      "source": [
        "확인(=0)"
      ]
    },
    {
      "cell_type": "code",
      "metadata": {
        "id": "HcJj1SkmMSEU"
      },
      "source": [
        "hall_cd_tolist = hall_check_detail.values.tolist()\n",
        "hall_cd_list = ''\n",
        "for i in hall_cd_tolist:\n",
        "  hall_cd_list += i"
      ],
      "execution_count": null,
      "outputs": []
    },
    {
      "cell_type": "code",
      "metadata": {
        "id": "iGb_OXMcMSEV"
      },
      "source": [
        "hall_cd_nouns = okt.nouns(hall_cd_list)\n",
        "hall_cd_n = ''\n",
        "for i in hall_cd_nouns:\n",
        "  hall_cd_n += i+' '"
      ],
      "execution_count": null,
      "outputs": []
    },
    {
      "cell_type": "code",
      "metadata": {
        "id": "kOTBiSp-MSEV"
      },
      "source": [
        "hall_cd_nouns_count = Counter(hall_cd_nouns)\n",
        "hall_cd_nouns_count"
      ],
      "execution_count": null,
      "outputs": []
    },
    {
      "cell_type": "code",
      "metadata": {
        "id": "kCFnjnbIMSEW"
      },
      "source": [
        "stopwords = set(STOPWORDS)\n",
        "# stopwords.update(['캠핑장','합강 캠핑장','합강'])"
      ],
      "execution_count": null,
      "outputs": []
    },
    {
      "cell_type": "code",
      "metadata": {
        "id": "2V_p_6mTMSEW"
      },
      "source": [
        "wd_hall_cd = WordCloud(max_font_size=300,background_color=\"white\",mask=circle_mask,font_path='/content/drive/MyDrive/Colab Notebooks/sounds/malgun.ttf',stopwords=stopwords).generate(hall_cd_n)\n",
        "fig = plt.figure()\n",
        "plt.imshow(wd_hall_cd, interpolation='bilinear')\n",
        "plt.axis('off')\n",
        "wd_hall_cd.to_file(filename='/content/drive/MyDrive/Colab Notebooks/wordcloud_img/wd_hall_cd.jpg')"
      ],
      "execution_count": null,
      "outputs": []
    },
    {
      "cell_type": "markdown",
      "metadata": {
        "id": "LyeGO-iJMURB"
      },
      "source": [
        "건의(=0)"
      ]
    },
    {
      "cell_type": "code",
      "metadata": {
        "id": "cVcNFa7VMURB"
      },
      "source": [
        "hall_rd_tolist = hall_request_detail.values.tolist()\n",
        "hall_rd_list = ''\n",
        "for i in hall_rd_tolist:\n",
        "  hall_rd_list += i"
      ],
      "execution_count": null,
      "outputs": []
    },
    {
      "cell_type": "code",
      "metadata": {
        "id": "4fBySnj2MURB"
      },
      "source": [
        "hall_rd_nouns = okt.nouns(hall_rd_list)\n",
        "hall_rd_n = ''\n",
        "for i in hall_rd_nouns:\n",
        "  hall_rd_n += i+' '"
      ],
      "execution_count": null,
      "outputs": []
    },
    {
      "cell_type": "code",
      "metadata": {
        "id": "u-WgUH5LMURB"
      },
      "source": [
        "hall_rd_nouns_count = Counter(hall_rd_nouns)\n",
        "hall_rd_nouns_count"
      ],
      "execution_count": null,
      "outputs": []
    },
    {
      "cell_type": "code",
      "metadata": {
        "id": "5SMCS2jaMURB"
      },
      "source": [
        "stopwords = set(STOPWORDS)\n",
        "# stopwords.update(['캠핑장','합강'])"
      ],
      "execution_count": null,
      "outputs": []
    },
    {
      "cell_type": "code",
      "metadata": {
        "id": "SOA7P1S0MURC"
      },
      "source": [
        "wd_hall_rd = WordCloud(max_font_size=250,background_color=\"white\",mask=circle_mask,font_path='/content/drive/MyDrive/Colab Notebooks/sounds/malgun.ttf',stopwords=stopwords).generate(hall_rd_n)\n",
        "fig = plt.figure()\n",
        "plt.imshow(wd_hall_rd, interpolation='bilinear')\n",
        "plt.axis('off')\n",
        "wd_hall_rd.to_file(filename='/content/drive/MyDrive/Colab Notebooks/wordcloud_img/wd_hall_rd.jpg')"
      ],
      "execution_count": null,
      "outputs": []
    }
  ]
}