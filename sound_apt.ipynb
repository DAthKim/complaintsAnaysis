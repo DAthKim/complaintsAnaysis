{
  "nbformat": 4,
  "nbformat_minor": 0,
  "metadata": {
    "colab": {
      "name": "sound_apt.ipynb",
      "provenance": [],
      "collapsed_sections": [],
      "mount_file_id": "1KzWu2yd2EmAT4H2-SiUV5Xkap2gwWIvC",
      "authorship_tag": "ABX9TyPzGy2KkEm8vaMFS0/XI3MO"
    },
    "kernelspec": {
      "name": "python3",
      "display_name": "Python 3"
    },
    "language_info": {
      "name": "python"
    }
  },
  "cells": [
    {
      "cell_type": "code",
      "metadata": {
        "id": "4qHf0nxK02YU"
      },
      "source": [
        "pip install konlpy"
      ],
      "execution_count": null,
      "outputs": []
    },
    {
      "cell_type": "code",
      "metadata": {
        "id": "1VKSV-wOiBqj"
      },
      "source": [
        "import pandas as pd\n",
        "import numpy as np\n",
        "import seaborn as sns\n",
        "from konlpy.tag import Okt\n",
        "from wordcloud import WordCloud, ImageColorGenerator, STOPWORDS\n",
        "import matplotlib.pyplot as plt\n",
        "%matplotlib inline\n",
        "okt = Okt()\n",
        "import matplotlib.font_manager as fm\n",
        "import re\n",
        "from PIL import Image\n",
        "from io import BytesIO \n",
        "import datetime\n",
        "from collections import Counter"
      ],
      "execution_count": null,
      "outputs": []
    },
    {
      "cell_type": "code",
      "metadata": {
        "id": "FdywTozLiRit"
      },
      "source": [
        "labels = ['place','date','messenger','category','type','due','summary','name','phone','email','detail','receive','address','end','period','address_detail','result','result_detail','sign','etc']\n",
        "data_apt = pd.read_csv('/content/drive/MyDrive/Colab Notebooks/sounds/sounds_place_apt.csv', names = labels, encoding='cp949')\n",
        "data_apt.head()"
      ],
      "execution_count": null,
      "outputs": []
    },
    {
      "cell_type": "code",
      "metadata": {
        "id": "RiejVyxnPopP"
      },
      "source": [
        "circle_mask = np.array(Image.open('/content/drive/MyDrive/Colab Notebooks/circle_img.jpg'))"
      ],
      "execution_count": null,
      "outputs": []
    },
    {
      "cell_type": "code",
      "metadata": {
        "id": "LH8zQq2aL9ql"
      },
      "source": [
        "apt_detail = data_apt['detail']\n",
        "apt_d_tolist = apt_detail.values.tolist()\n",
        "apt_d_list = ''\n",
        "for i in apt_d_tolist:\n",
        "  apt_d_list += i\n",
        "apt_d_nouns = okt.nouns(apt_d_list)\n",
        "apt_d_n = ''\n",
        "for i in apt_d_nouns:\n",
        "  apt_d_n += i+' '\n",
        "apt_d_nouns_count = Counter(apt_d_nouns)\n",
        "stopwords = set(STOPWORDS)\n",
        "# stopwords.update(['아파트', '행복'])"
      ],
      "execution_count": null,
      "outputs": []
    },
    {
      "cell_type": "code",
      "source": [
        "f, ax = plt.subplots(figsize=(10, 10))\n",
        "sns.set_color_codes(\"pastel\")\n",
        "count_value=apt_d_nouns_count[\"True\"]\n",
        "sns.barplot(x=apt_d_nouns, y=apt_d_nouns_count, label=\"count\", color=\"b\") # table"
      ],
      "metadata": {
        "id": "2WYZ58oxUftI"
      },
      "execution_count": null,
      "outputs": []
    },
    {
      "cell_type": "code",
      "source": [
        "apt_d_nouns_count"
      ],
      "metadata": {
        "id": "-YUweVDOXzr1"
      },
      "execution_count": null,
      "outputs": []
    },
    {
      "cell_type": "code",
      "metadata": {
        "id": "cE31WDpYMcDI"
      },
      "source": [
        "wd_apt_d = WordCloud(max_font_size=200,background_color=\"white\",mask=circle_mask,font_path='/content/drive/MyDrive/Colab Notebooks/sounds/malgun.ttf',stopwords=stopwords).generate(apt_d_n)\n",
        "fig = plt.figure()\n",
        "plt.imshow(wd_apt_d, interpolation='bilinear')\n",
        "plt.axis('off')\n",
        "wd_apt_d.to_file(filename='/content/drive/MyDrive/Colab Notebooks/wordcloud_img/wd_apt_d.jpg')"
      ],
      "execution_count": null,
      "outputs": []
    },
    {
      "cell_type": "code",
      "metadata": {
        "id": "GpdBl10EtRzr"
      },
      "source": [
        "apt_question = data_apt[data_apt['type'] == \"질의\"]\n",
        "apt_question_detail = apt_question['detail']\n",
        "\n",
        "apt_check = data_apt[data_apt['type'] == \"확인\"]\n",
        "apt_check_detail = apt_check['detail']\n",
        "\n",
        "apt_request = data_apt[data_apt['type'] == \"건의\"]\n",
        "apt_request_detail = apt_request['detail']"
      ],
      "execution_count": null,
      "outputs": []
    },
    {
      "cell_type": "markdown",
      "metadata": {
        "id": "HlnVffZVMNx9"
      },
      "source": [
        "질의"
      ]
    },
    {
      "cell_type": "code",
      "metadata": {
        "id": "hguVNBbpeFnC"
      },
      "source": [
        "apt_qd_tolist = apt_question_detail.values.tolist()\n",
        "apt_qd_list = ''\n",
        "for i in apt_qd_tolist:\n",
        "  apt_qd_list += i"
      ],
      "execution_count": null,
      "outputs": []
    },
    {
      "cell_type": "code",
      "metadata": {
        "id": "sO-G4dTvIKST"
      },
      "source": [
        "apt_qd_nouns = okt.nouns(apt_qd_list)\n",
        "apt_qd_n = ''\n",
        "for i in apt_qd_nouns:\n",
        "  apt_qd_n += i+' '"
      ],
      "execution_count": null,
      "outputs": []
    },
    {
      "cell_type": "code",
      "metadata": {
        "id": "Oo0dyXx7qqY5"
      },
      "source": [
        "apt_qd_nouns_count = Counter(apt_qd_nouns)\n",
        "apt_qd_nouns_count"
      ],
      "execution_count": null,
      "outputs": []
    },
    {
      "cell_type": "code",
      "metadata": {
        "id": "vN35SalkMVKu"
      },
      "source": [
        "stopwords = set(STOPWORDS)\n",
        "stopwords.update(['아파트', '행복'])"
      ],
      "execution_count": null,
      "outputs": []
    },
    {
      "cell_type": "code",
      "metadata": {
        "id": "itbGy5cuGAUQ"
      },
      "source": [
        "wd_apt_qd = WordCloud(max_font_size=200,background_color=\"white\",mask=circle_mask,font_path='/content/drive/MyDrive/Colab Notebooks/sounds/malgun.ttf',stopwords=stopwords).generate(apt_qd_n)\n",
        "fig = plt.figure()\n",
        "plt.imshow(wd_apt_qd, interpolation='bilinear')\n",
        "plt.axis('off')\n",
        "wd_apt_qd.to_file(filename='/content/drive/MyDrive/Colab Notebooks/wordcloud_img/wd_apt_qd.jpg')"
      ],
      "execution_count": null,
      "outputs": []
    },
    {
      "cell_type": "markdown",
      "metadata": {
        "id": "0c13DBGVMSEU"
      },
      "source": [
        "확인"
      ]
    },
    {
      "cell_type": "code",
      "metadata": {
        "id": "HcJj1SkmMSEU"
      },
      "source": [
        "apt_cd_tolist = apt_check_detail.values.tolist()\n",
        "apt_cd_list = ''\n",
        "for i in apt_cd_tolist:\n",
        "  apt_cd_list += i"
      ],
      "execution_count": null,
      "outputs": []
    },
    {
      "cell_type": "code",
      "metadata": {
        "id": "iGb_OXMcMSEV"
      },
      "source": [
        "apt_cd_nouns = okt.nouns(apt_cd_list)\n",
        "apt_cd_n = ''\n",
        "for i in apt_cd_nouns:\n",
        "  apt_cd_n += i+' '"
      ],
      "execution_count": null,
      "outputs": []
    },
    {
      "cell_type": "code",
      "metadata": {
        "id": "kOTBiSp-MSEV"
      },
      "source": [
        "apt_cd_nouns_count = Counter(apt_cd_nouns)\n",
        "apt_cd_nouns_count"
      ],
      "execution_count": null,
      "outputs": []
    },
    {
      "cell_type": "code",
      "metadata": {
        "id": "kCFnjnbIMSEW"
      },
      "source": [
        "stopwords = set(STOPWORDS)\n",
        "# stopwords.update(['모집', '임대', '아파트', '행복'])"
      ],
      "execution_count": null,
      "outputs": []
    },
    {
      "cell_type": "code",
      "metadata": {
        "id": "2V_p_6mTMSEW"
      },
      "source": [
        "wd_apt_cd = WordCloud(max_font_size=300,background_color=\"white\",mask=circle_mask,font_path='/content/drive/MyDrive/Colab Notebooks/sounds/malgun.ttf',stopwords=stopwords).generate(apt_cd_n)\n",
        "fig = plt.figure()\n",
        "plt.imshow(wd_apt_cd, interpolation='bilinear')\n",
        "plt.axis('off')\n",
        "wd_apt_cd.to_file(filename='/content/drive/MyDrive/Colab Notebooks/wordcloud_img/wd_apt_cd.jpg')"
      ],
      "execution_count": null,
      "outputs": []
    },
    {
      "cell_type": "markdown",
      "metadata": {
        "id": "LyeGO-iJMURB"
      },
      "source": [
        "건의"
      ]
    },
    {
      "cell_type": "code",
      "metadata": {
        "id": "cVcNFa7VMURB"
      },
      "source": [
        "apt_rd_tolist = apt_request_detail.values.tolist()\n",
        "apt_rd_list = ''\n",
        "for i in apt_rd_tolist:\n",
        "  apt_rd_list += i"
      ],
      "execution_count": null,
      "outputs": []
    },
    {
      "cell_type": "code",
      "metadata": {
        "id": "4fBySnj2MURB"
      },
      "source": [
        "apt_rd_nouns = okt.nouns(apt_rd_list)\n",
        "apt_rd_n = ''\n",
        "for i in apt_rd_nouns:\n",
        "  apt_rd_n += i+' '"
      ],
      "execution_count": null,
      "outputs": []
    },
    {
      "cell_type": "code",
      "metadata": {
        "id": "u-WgUH5LMURB"
      },
      "source": [
        "apt_rd_nouns_count = Counter(apt_rd_nouns)\n",
        "apt_rd_nouns_count"
      ],
      "execution_count": null,
      "outputs": []
    },
    {
      "cell_type": "code",
      "metadata": {
        "id": "5SMCS2jaMURB"
      },
      "source": [
        "stopwords = set(STOPWORDS)\n",
        "# stopwords.update(['모집', '임대', '아파트', '행복'])"
      ],
      "execution_count": null,
      "outputs": []
    },
    {
      "cell_type": "code",
      "metadata": {
        "id": "SOA7P1S0MURC"
      },
      "source": [
        "wd_apt_rd = WordCloud(max_font_size=200,background_color=\"white\",mask=circle_mask,font_path='/content/drive/MyDrive/Colab Notebooks/sounds/malgun.ttf',stopwords=stopwords).generate(apt_rd_n)\n",
        "fig = plt.figure()\n",
        "plt.imshow(wd_apt_rd, interpolation='bilinear')\n",
        "plt.axis('off')\n",
        "wd_apt_rd.to_file(filename='/content/drive/MyDrive/Colab Notebooks/wordcloud_img/wd_apt_rd.jpg')"
      ],
      "execution_count": null,
      "outputs": []
    },
    {
      "cell_type": "code",
      "metadata": {
        "id": "6ywv6-LGMzI-"
      },
      "source": [
        "# select = 'type' # col\n",
        "# row = \"건의\" # row\n",
        "# apt_request = data_apt[data_apt[select] == row]\n",
        "# apt_request.head()"
      ],
      "execution_count": null,
      "outputs": []
    }
  ]
}