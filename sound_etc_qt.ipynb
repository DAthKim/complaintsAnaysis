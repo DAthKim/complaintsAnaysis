{
  "nbformat": 4,
  "nbformat_minor": 0,
  "metadata": {
    "colab": {
      "name": "sound_etc_qt.ipynb",
      "provenance": [],
      "collapsed_sections": [],
      "mount_file_id": "1KgH94lWFEycoiFybCL8RyyanIaf3LIrF",
      "authorship_tag": "ABX9TyMaJoBWM5nQWFdtkanUkAkU"
    },
    "kernelspec": {
      "name": "python3",
      "display_name": "Python 3"
    },
    "language_info": {
      "name": "python"
    }
  },
  "cells": [
    {
      "cell_type": "code",
      "metadata": {
        "id": "4qHf0nxK02YU"
      },
      "source": [
        "pip install konlpy"
      ],
      "execution_count": null,
      "outputs": []
    },
    {
      "cell_type": "code",
      "metadata": {
        "id": "1VKSV-wOiBqj"
      },
      "source": [
        "import pandas as pd\n",
        "import numpy as np\n",
        "import seaborn as sns\n",
        "from konlpy.tag import Okt\n",
        "from wordcloud import WordCloud, ImageColorGenerator, STOPWORDS\n",
        "import matplotlib.pyplot as plt\n",
        "%matplotlib inline\n",
        "okt = Okt()\n",
        "import matplotlib.font_manager as fm\n",
        "import re\n",
        "from PIL import Image\n",
        "from io import BytesIO \n",
        "import datetime as dt\n",
        "from collections import Counter"
      ],
      "execution_count": null,
      "outputs": []
    },
    {
      "cell_type": "code",
      "metadata": {
        "id": "FdywTozLiRit"
      },
      "source": [
        "labels = ['place','date','messenger','category','type','due','summary','name','phone','email','detail','receive','address','end','period','address_detail','result','result_detail','sign','etc']\n",
        "data_etc = pd.read_csv('/content/drive/MyDrive/Colab Notebooks/sounds/sounds_place_etc.csv', names = labels, encoding='cp949')\n",
        "data_etc.head()"
      ],
      "execution_count": null,
      "outputs": []
    },
    {
      "cell_type": "code",
      "metadata": {
        "id": "8Esu2_ss2lw_"
      },
      "source": [
        "data_etc.dtypes\n",
        "data_etc['date'] = pd.to_datetime(data_etc['date'], dayfirst=True, errors='coerce')"
      ],
      "execution_count": null,
      "outputs": []
    },
    {
      "cell_type": "code",
      "metadata": {
        "id": "tl8g9IewGiKI"
      },
      "source": [
        "etc_label = data_etc['date']\n",
        "# etc_label_du = etc_label[~etc_label.duplicated()]\n",
        "etc_label_count= Counter(etc_label)\n",
        "etc_label_count"
      ],
      "execution_count": null,
      "outputs": []
    },
    {
      "cell_type": "code",
      "metadata": {
        "id": "5orY8KbNfnCW"
      },
      "source": [
        "qt01 = (data_etc['date'].dt.month >= 1) & (data_etc['date'].dt.month <=3)\n",
        "qt02 = (data_etc['date'].dt.month >= 4) & (data_etc['date'].dt.month <=6)\n",
        "qt03 = (data_etc['date'].dt.month >= 7) & (data_etc['date'].dt.month <=9)\n",
        "qt04 = (data_etc['date'].dt.month >= 10) & (data_etc['date'].dt.month <=12)"
      ],
      "execution_count": null,
      "outputs": []
    },
    {
      "cell_type": "code",
      "metadata": {
        "id": "BvSwkTeiCJD4"
      },
      "source": [
        "hmp_1qt_count = Counter(qt01)\n",
        "hmp_2qt_count = Counter(qt02)\n",
        "hmp_3qt_count = Counter(qt03)\n",
        "hmp_4qt_count = Counter(qt04)\n",
        "qt_count = [hmp_1qt_count[True],hmp_2qt_count[True],hmp_3qt_count[True],hmp_4qt_count[True]]\n",
        "qt = [\"1qt\",\"2qt\",\"3qt\",\"4qt\"]\n",
        "qt_plot = sns.barplot(x=qt, y=qt_count, color=\"black\")\n",
        "qt_plot.figure.savefig(\"/content/drive/MyDrive/Colab Notebooks/wordcloud_img/etc_qt_plot.jpg\")"
      ],
      "execution_count": null,
      "outputs": []
    },
    {
      "cell_type": "code",
      "metadata": {
        "id": "K9BmyhsQmPlC"
      },
      "source": [
        "circle_mask = np.array(Image.open('/content/drive/MyDrive/Colab Notebooks/circle_img.jpg'))"
      ],
      "execution_count": null,
      "outputs": []
    },
    {
      "cell_type": "markdown",
      "metadata": {
        "id": "uXLtfotmTf5G"
      },
      "source": [
        "## 1분기"
      ]
    },
    {
      "cell_type": "code",
      "metadata": {
        "id": "XzsQdYnbdf4V"
      },
      "source": [
        "etc_question = data_etc[data_etc['type'] == \"질의\"]\n",
        "etc_question_1qt = etc_question[qt01]\n",
        "etc_qd_1qt = etc_question_1qt['detail']\n",
        "\n",
        "etc_check = data_etc[data_etc['type'] == \"확인\"]\n",
        "etc_check_1qt = etc_check[qt01]\n",
        "etc_cd_1qt = etc_check_1qt['detail']\n",
        "\n",
        "etc_request = data_etc[data_etc['type'] == \"건의\"]\n",
        "etc_request_1qt = etc_request[qt01]\n",
        "etc_rd_1qt = etc_request_1qt['detail']"
      ],
      "execution_count": null,
      "outputs": []
    },
    {
      "cell_type": "markdown",
      "metadata": {
        "id": "G-Hkehc8WixV"
      },
      "source": [
        "질의(=0)"
      ]
    },
    {
      "cell_type": "code",
      "metadata": {
        "id": "hguVNBbpeFnC"
      },
      "source": [
        "etc_qd_tolist_1qt = etc_qd_1qt.values.tolist()\n",
        "etc_qd_list_1qt = ''\n",
        "for i in etc_qd_tolist_1qt:\n",
        "  etc_qd_list_1qt += i"
      ],
      "execution_count": null,
      "outputs": []
    },
    {
      "cell_type": "code",
      "metadata": {
        "id": "sO-G4dTvIKST"
      },
      "source": [
        "etc_qd_nouns_1qt = okt.nouns(etc_qd_list_1qt)\n",
        "etc_qd_n_1qt = ''\n",
        "for i in etc_qd_nouns_1qt:\n",
        "  etc_qd_n_1qt += i+' '"
      ],
      "execution_count": null,
      "outputs": []
    },
    {
      "cell_type": "code",
      "metadata": {
        "id": "Oo0dyXx7qqY5"
      },
      "source": [
        "etc_qd_nouns_count_1qt = Counter(etc_qd_nouns_1qt)\n",
        "etc_qd_nouns_count_1qt"
      ],
      "execution_count": null,
      "outputs": []
    },
    {
      "cell_type": "code",
      "metadata": {
        "id": "vN35SalkMVKu"
      },
      "source": [
        "stopwords = set(STOPWORDS)\n",
        "stopwords.update(['세종'])"
      ],
      "execution_count": null,
      "outputs": []
    },
    {
      "cell_type": "code",
      "metadata": {
        "id": "itbGy5cuGAUQ"
      },
      "source": [
        "wd_etc_1qt_qd = WordCloud(background_color = \"white\",max_font_size=250,mask=circle_mask,\n",
        "                          font_path='/content/drive/MyDrive/Colab Notebooks/sounds/malgun.ttf',stopwords=stopwords).generate(etc_qd_n_1qt)\n",
        "fig = plt.figure()\n",
        "plt.imshow(wd_etc_1qt_qd, interpolation='bilinear')\n",
        "plt.axis('off')\n",
        "wd_etc_1qt_qd.to_file(filename='/content/drive/MyDrive/Colab Notebooks/wordcloud_img/wd_etc_1qt_qd.jpg')"
      ],
      "execution_count": null,
      "outputs": []
    },
    {
      "cell_type": "markdown",
      "metadata": {
        "id": "TgXfpRCyWpsw"
      },
      "source": [
        "확인(=0)"
      ]
    },
    {
      "cell_type": "code",
      "metadata": {
        "id": "mckFZ1MPVWqq"
      },
      "source": [
        "etc_cd_tolist_1qt = etc_cd_1qt.values.tolist()\n",
        "etc_cd_list_1qt = ''\n",
        "for i in etc_cd_tolist_1qt:\n",
        "  etc_cd_list_1qt += i"
      ],
      "execution_count": null,
      "outputs": []
    },
    {
      "cell_type": "code",
      "metadata": {
        "id": "bOenZy9sVWqr"
      },
      "source": [
        "etc_cd_nouns_1qt = okt.nouns(etc_cd_list_1qt)\n",
        "etc_cd_n_1qt = ''\n",
        "for i in etc_cd_nouns_1qt:\n",
        "  etc_cd_n_1qt += i+' '"
      ],
      "execution_count": null,
      "outputs": []
    },
    {
      "cell_type": "code",
      "metadata": {
        "id": "pRKcByylVWqr"
      },
      "source": [
        "etc_cd_nouns_count_1qt = Counter(etc_cd_nouns_1qt)\n",
        "etc_cd_nouns_count_1qt"
      ],
      "execution_count": null,
      "outputs": []
    },
    {
      "cell_type": "code",
      "metadata": {
        "id": "u-4hZ-lrVWqs"
      },
      "source": [
        "stopwords = set(STOPWORDS)\n",
        "# stopwords.update(['모집', '임대', '아파트', '행복'])"
      ],
      "execution_count": null,
      "outputs": []
    },
    {
      "cell_type": "code",
      "metadata": {
        "id": "pX-56_4RVWqs"
      },
      "source": [
        "wd_etc_1qt_cd = WordCloud(background_color = \"white\",max_font_size=200,mask=circle_mask,\n",
        "                          font_path='/content/drive/MyDrive/Colab Notebooks/sounds/malgun.ttf',stopwords=stopwords).generate(etc_cd_n_1qt)\n",
        "fig = plt.figure()\n",
        "plt.imshow(wd_etc_1qt_cd, interpolation='bilinear')\n",
        "plt.axis('off')\n",
        "wd_etc_1qt_cd.to_file(filename='/content/drive/MyDrive/Colab Notebooks/wordcloud_img/wd_etc_1qt_cd.jpg')"
      ],
      "execution_count": null,
      "outputs": []
    },
    {
      "cell_type": "markdown",
      "metadata": {
        "id": "wvnH2xHtXkzl"
      },
      "source": [
        "건의"
      ]
    },
    {
      "cell_type": "code",
      "metadata": {
        "id": "g0GiurqHXkzm"
      },
      "source": [
        "etc_rd_tolist_1qt = etc_rd_1qt.values.tolist()\n",
        "etc_rd_list_1qt = ''\n",
        "for i in etc_rd_tolist_1qt:\n",
        "  etc_rd_list_1qt += i"
      ],
      "execution_count": null,
      "outputs": []
    },
    {
      "cell_type": "code",
      "metadata": {
        "id": "mSf_0QPeXkzm"
      },
      "source": [
        "etc_rd_nouns_1qt = okt.nouns(etc_rd_list_1qt)\n",
        "etc_rd_n_1qt = ''\n",
        "for i in etc_rd_nouns_1qt:\n",
        "  etc_rd_n_1qt += i+' '"
      ],
      "execution_count": null,
      "outputs": []
    },
    {
      "cell_type": "code",
      "metadata": {
        "id": "L2m2WZP_Xkzn"
      },
      "source": [
        "etc_rd_nouns_count_1qt = Counter(etc_rd_nouns_1qt)\n",
        "etc_rd_nouns_count_1qt"
      ],
      "execution_count": null,
      "outputs": []
    },
    {
      "cell_type": "code",
      "metadata": {
        "id": "bvJs1YAvXkzn"
      },
      "source": [
        "stopwords = set(STOPWORDS)\n",
        "stopwords.update(['세종시'])"
      ],
      "execution_count": null,
      "outputs": []
    },
    {
      "cell_type": "code",
      "metadata": {
        "id": "OPXm1l0nXkzn"
      },
      "source": [
        "wd_etc_1qt_rd = WordCloud(background_color = \"white\",max_font_size=250,mask=circle_mask,\n",
        "                          font_path='/content/drive/MyDrive/Colab Notebooks/sounds/malgun.ttf',stopwords=stopwords).generate(etc_rd_n_1qt)\n",
        "fig = plt.figure()\n",
        "plt.imshow(wd_etc_1qt_rd, interpolation='bilinear')\n",
        "plt.axis('off')\n",
        "wd_etc_1qt_rd.to_file(filename='/content/drive/MyDrive/Colab Notebooks/wordcloud_img/wd_etc_1qt_rd.jpg')"
      ],
      "execution_count": null,
      "outputs": []
    },
    {
      "cell_type": "markdown",
      "metadata": {
        "id": "J58FYYsqXiwz"
      },
      "source": [
        "## 2분기"
      ]
    },
    {
      "cell_type": "code",
      "metadata": {
        "id": "gx9Y6lOJXiw0"
      },
      "source": [
        "etc_question = data_etc[data_etc['type'] == \"질의\"]\n",
        "etc_question_2qt = etc_question[qt02]\n",
        "etc_qd_2qt = etc_question_2qt['detail']\n",
        "\n",
        "etc_check = data_etc[data_etc['type'] == \"확인\"]\n",
        "etc_check_2qt = etc_check[qt02]\n",
        "etc_cd_2qt = etc_check_2qt['detail']\n",
        "\n",
        "etc_request = data_etc[data_etc['type'] == \"건의\"]\n",
        "etc_request_2qt = etc_request[qt02]\n",
        "etc_rd_2qt = etc_request_2qt['detail']"
      ],
      "execution_count": null,
      "outputs": []
    },
    {
      "cell_type": "markdown",
      "metadata": {
        "id": "03iBUGxIXiw1"
      },
      "source": [
        "질의(=0)"
      ]
    },
    {
      "cell_type": "code",
      "metadata": {
        "id": "EMfHTJNbXiw1"
      },
      "source": [
        "etc_qd_tolist_2qt = etc_qd_2qt.values.tolist()\n",
        "etc_qd_list_2qt = ''\n",
        "for i in etc_qd_tolist_1qt:\n",
        "  etc_qd_list_2qt += i"
      ],
      "execution_count": null,
      "outputs": []
    },
    {
      "cell_type": "code",
      "metadata": {
        "id": "6FSzB2U2Xiw1"
      },
      "source": [
        "etc_qd_nouns_2qt = okt.nouns(etc_qd_list_2qt)\n",
        "etc_qd_n_2qt = ''\n",
        "for i in etc_qd_nouns_2qt:\n",
        "  etc_qd_n_2qt += i+' '"
      ],
      "execution_count": null,
      "outputs": []
    },
    {
      "cell_type": "code",
      "metadata": {
        "id": "O1ObSlQdXiw1"
      },
      "source": [
        "etc_qd_nouns_count_2qt = Counter(etc_qd_nouns_2qt)\n",
        "etc_qd_nouns_count_2qt"
      ],
      "execution_count": null,
      "outputs": []
    },
    {
      "cell_type": "code",
      "metadata": {
        "id": "vt0Ot5pgXiw2"
      },
      "source": [
        "stopwords = set(STOPWORDS)\n",
        "stopwords.update(['세종'])"
      ],
      "execution_count": null,
      "outputs": []
    },
    {
      "cell_type": "code",
      "metadata": {
        "id": "_69YBzJhXiw2"
      },
      "source": [
        "wd_etc_2qt_qd = WordCloud(background_color = \"white\",max_font_size=250,mask=circle_mask,\n",
        "                          font_path='/content/drive/MyDrive/Colab Notebooks/sounds/malgun.ttf',stopwords=stopwords).generate(etc_qd_n_2qt)\n",
        "fig = plt.figure()\n",
        "plt.imshow(wd_etc_2qt_qd, interpolation='bilinear')\n",
        "plt.axis('off')\n",
        "wd_etc_2qt_qd.to_file(filename='/content/drive/MyDrive/Colab Notebooks/wordcloud_img/wd_etc_2qt_qd.jpg')"
      ],
      "execution_count": null,
      "outputs": []
    },
    {
      "cell_type": "markdown",
      "metadata": {
        "id": "fBuB6aTTXiw2"
      },
      "source": [
        "확인(=0)"
      ]
    },
    {
      "cell_type": "code",
      "metadata": {
        "id": "jhenAD41Xiw2"
      },
      "source": [
        "etc_cd_tolist_2qt = etc_cd_2qt.values.tolist()\n",
        "etc_cd_list_2qt = ''\n",
        "for i in etc_cd_tolist_2qt:\n",
        "  etc_cd_list_2qt += i"
      ],
      "execution_count": null,
      "outputs": []
    },
    {
      "cell_type": "code",
      "metadata": {
        "id": "cT8DPapfXiw3"
      },
      "source": [
        "etc_cd_nouns_2qt = okt.nouns(etc_cd_list_2qt)\n",
        "etc_cd_n_2qt = ''\n",
        "for i in etc_cd_nouns_2qt:\n",
        "  etc_cd_n_2qt += i+' '"
      ],
      "execution_count": null,
      "outputs": []
    },
    {
      "cell_type": "code",
      "metadata": {
        "id": "tb5ittaFXiw3"
      },
      "source": [
        "etc_cd_nouns_count_2qt = Counter(etc_cd_nouns_2qt)\n",
        "etc_cd_nouns_count_2qt"
      ],
      "execution_count": null,
      "outputs": []
    },
    {
      "cell_type": "code",
      "metadata": {
        "id": "-NhvDYiZXiw3"
      },
      "source": [
        "stopwords = set(STOPWORDS)\n",
        "# stopwords.update(['모집', '임대', '아파트', '행복'])"
      ],
      "execution_count": null,
      "outputs": []
    },
    {
      "cell_type": "code",
      "metadata": {
        "id": "PURf83L8Xiw3"
      },
      "source": [
        "wd_etc_2qt_cd = WordCloud(background_color = \"white\",max_font_size=200,mask=circle_mask,\n",
        "                          font_path='/content/drive/MyDrive/Colab Notebooks/sounds/malgun.ttf',stopwords=stopwords).generate(etc_cd_n_2qt)\n",
        "fig = plt.figure()\n",
        "plt.imshow(wd_etc_2qt_cd, interpolation='bilinear')\n",
        "plt.axis('off')\n",
        "wd_etc_2qt_cd.to_file(filename='/content/drive/MyDrive/Colab Notebooks/wordcloud_img/wd_etc_2qt_cd.jpg')"
      ],
      "execution_count": null,
      "outputs": []
    },
    {
      "cell_type": "markdown",
      "metadata": {
        "id": "taHgWwpMXiw3"
      },
      "source": [
        "건의"
      ]
    },
    {
      "cell_type": "code",
      "metadata": {
        "id": "cqsw9BjcXiw3"
      },
      "source": [
        "etc_rd_tolist_2qt = etc_rd_2qt.values.tolist()\n",
        "etc_rd_list_2qt = ''\n",
        "for i in etc_rd_tolist_2qt:\n",
        "  etc_rd_list_2qt += i"
      ],
      "execution_count": null,
      "outputs": []
    },
    {
      "cell_type": "code",
      "metadata": {
        "id": "wsEsWSCKXiw3"
      },
      "source": [
        "etc_rd_nouns_2qt = okt.nouns(etc_rd_list_2qt)\n",
        "etc_rd_n_2qt = ''\n",
        "for i in etc_rd_nouns_2qt:\n",
        "  etc_rd_n_2qt += i+' '"
      ],
      "execution_count": null,
      "outputs": []
    },
    {
      "cell_type": "code",
      "metadata": {
        "id": "ateiYzByXiw3"
      },
      "source": [
        "etc_rd_nouns_count_2qt = Counter(etc_rd_nouns_2qt)\n",
        "etc_rd_nouns_count_2qt"
      ],
      "execution_count": null,
      "outputs": []
    },
    {
      "cell_type": "code",
      "metadata": {
        "id": "u5NMXsLxXiw3"
      },
      "source": [
        "stopwords = set(STOPWORDS)\n",
        "# stopwords.update(['오토','합강'])"
      ],
      "execution_count": null,
      "outputs": []
    },
    {
      "cell_type": "code",
      "metadata": {
        "id": "kZxcebIKXiw3"
      },
      "source": [
        "wd_etc_2qt_rd = WordCloud(background_color = \"white\",max_font_size=250,mask=circle_mask,\n",
        "                          font_path='/content/drive/MyDrive/Colab Notebooks/sounds/malgun.ttf',stopwords=stopwords).generate(etc_rd_n_2qt)\n",
        "fig = plt.figure()\n",
        "plt.imshow(wd_etc_2qt_rd, interpolation='bilinear')\n",
        "plt.axis('off')\n",
        "wd_etc_2qt_rd.to_file(filename='/content/drive/MyDrive/Colab Notebooks/wordcloud_img/wd_etc_2qt_rd.jpg')"
      ],
      "execution_count": null,
      "outputs": []
    },
    {
      "cell_type": "markdown",
      "metadata": {
        "id": "4hmImJTjb2PM"
      },
      "source": [
        "## 3분기"
      ]
    },
    {
      "cell_type": "code",
      "metadata": {
        "id": "MrMJYhLLb2PX"
      },
      "source": [
        "etc_question = data_etc[data_etc['type'] == \"질의\"]\n",
        "etc_question_3qt = etc_question[qt03]\n",
        "etc_qd_3qt = etc_question_3qt['detail']\n",
        "\n",
        "etc_check = data_etc[data_etc['type'] == \"확인\"]\n",
        "etc_check_3qt = etc_check[qt03]\n",
        "etc_cd_3qt = etc_check_3qt['detail']\n",
        "\n",
        "etc_request = data_etc[data_etc['type'] == \"건의\"]\n",
        "etc_request_3qt = etc_request[qt03]\n",
        "etc_rd_3qt = etc_request_3qt['detail']"
      ],
      "execution_count": null,
      "outputs": []
    },
    {
      "cell_type": "markdown",
      "metadata": {
        "id": "UFYnc61qb2PX"
      },
      "source": [
        "질의"
      ]
    },
    {
      "cell_type": "code",
      "metadata": {
        "id": "ieg-6IrXb2PX"
      },
      "source": [
        "etc_qd_tolist_3qt = etc_qd_3qt.values.tolist()\n",
        "etc_qd_list_3qt = ''\n",
        "for i in etc_qd_tolist_3qt:\n",
        "  etc_qd_list_3qt += i"
      ],
      "execution_count": null,
      "outputs": []
    },
    {
      "cell_type": "code",
      "metadata": {
        "id": "sDJBrH6hb2PY"
      },
      "source": [
        "etc_qd_nouns_3qt = okt.nouns(etc_qd_list_3qt)\n",
        "etc_qd_n_3qt = ''\n",
        "for i in etc_qd_nouns_3qt:\n",
        "  etc_qd_n_3qt += i+' '"
      ],
      "execution_count": null,
      "outputs": []
    },
    {
      "cell_type": "code",
      "metadata": {
        "id": "8QrWvwbWb2PY"
      },
      "source": [
        "etc_qd_nouns_count_3qt = Counter(etc_qd_nouns_3qt)\n",
        "etc_qd_nouns_count_3qt"
      ],
      "execution_count": null,
      "outputs": []
    },
    {
      "cell_type": "code",
      "metadata": {
        "id": "MehLcC4ub2PY"
      },
      "source": [
        "stopwords = set(STOPWORDS)\n",
        "# stopwords.update(['캠핑장'])"
      ],
      "execution_count": null,
      "outputs": []
    },
    {
      "cell_type": "code",
      "metadata": {
        "id": "1zG8cnvWb2PY"
      },
      "source": [
        "wd_etc_3qt_qd = WordCloud(background_color = \"white\",max_font_size=250,mask=circle_mask,\n",
        "                          font_path='/content/drive/MyDrive/Colab Notebooks/sounds/malgun.ttf',stopwords=stopwords).generate(etc_qd_n_3qt)\n",
        "fig = plt.figure()\n",
        "plt.imshow(wd_etc_3qt_qd, interpolation='bilinear')\n",
        "plt.axis('off')\n",
        "wd_etc_3qt_qd.to_file(filename='/content/drive/MyDrive/Colab Notebooks/wordcloud_img/wd_etc_3qt_qd.jpg')"
      ],
      "execution_count": null,
      "outputs": []
    },
    {
      "cell_type": "markdown",
      "metadata": {
        "id": "LCurA2R6b2PY"
      },
      "source": [
        "확인(=0)"
      ]
    },
    {
      "cell_type": "code",
      "metadata": {
        "id": "D_6j2qvDb2PY"
      },
      "source": [
        "etc_cd_tolist_3qt = etc_cd_3qt.values.tolist()\n",
        "etc_cd_list_3qt = ''\n",
        "for i in etc_cd_tolist_3qt:\n",
        "  etc_cd_list_3qt += i"
      ],
      "execution_count": null,
      "outputs": []
    },
    {
      "cell_type": "code",
      "metadata": {
        "id": "IMxxaSLCb2PY"
      },
      "source": [
        "etc_cd_nouns_3qt = okt.nouns(etc_cd_list_3qt)\n",
        "etc_cd_n_3qt = ''\n",
        "for i in etc_cd_nouns_3qt:\n",
        "  etc_cd_n_3qt += i+' '"
      ],
      "execution_count": null,
      "outputs": []
    },
    {
      "cell_type": "code",
      "metadata": {
        "id": "-ujG-k7Mb2PY"
      },
      "source": [
        "etc_cd_nouns_count_3qt = Counter(etc_cd_nouns_3qt)\n",
        "etc_cd_nouns_count_3qt"
      ],
      "execution_count": null,
      "outputs": []
    },
    {
      "cell_type": "code",
      "metadata": {
        "id": "u9QOICeeb2PY"
      },
      "source": [
        "stopwords = set(STOPWORDS)\n",
        "# stopwords.update(['캠핑장','합강'])"
      ],
      "execution_count": null,
      "outputs": []
    },
    {
      "cell_type": "code",
      "metadata": {
        "id": "s73ukWSub2PY"
      },
      "source": [
        "wd_etc_3qt_cd = WordCloud(background_color = \"white\",max_font_size=250,mask=circle_mask,\n",
        "                          font_path='/content/drive/MyDrive/Colab Notebooks/sounds/malgun.ttf',stopwords=stopwords).generate(etc_cd_n_3qt)\n",
        "fig = plt.figure()\n",
        "plt.imshow(wd_etc_3qt_cd, interpolation='bilinear')\n",
        "plt.axis('off')\n",
        "wd_etc_3qt_cd.to_file(filename='/content/drive/MyDrive/Colab Notebooks/wordcloud_img/wd_etc_3qt_cd.jpg')"
      ],
      "execution_count": null,
      "outputs": []
    },
    {
      "cell_type": "markdown",
      "metadata": {
        "id": "2Brzcow_b2PY"
      },
      "source": [
        "건의"
      ]
    },
    {
      "cell_type": "code",
      "metadata": {
        "id": "aiSuAurtb2PY"
      },
      "source": [
        "etc_rd_tolist_3qt = etc_rd_3qt.values.tolist()\n",
        "etc_rd_list_3qt = ''\n",
        "for i in etc_rd_tolist_3qt:\n",
        "  etc_rd_list_3qt += i"
      ],
      "execution_count": null,
      "outputs": []
    },
    {
      "cell_type": "code",
      "metadata": {
        "id": "tMmuzRVLb2PZ"
      },
      "source": [
        "etc_rd_nouns_3qt = okt.nouns(etc_rd_list_3qt)\n",
        "etc_rd_n_3qt = ''\n",
        "for i in etc_rd_nouns_3qt:\n",
        "  etc_rd_n_3qt += i+' '"
      ],
      "execution_count": null,
      "outputs": []
    },
    {
      "cell_type": "code",
      "metadata": {
        "id": "WcDoeMgnb2Pa"
      },
      "source": [
        "etc_rd_nouns_count_3qt = Counter(etc_rd_nouns_3qt)\n",
        "etc_rd_nouns_count_3qt"
      ],
      "execution_count": null,
      "outputs": []
    },
    {
      "cell_type": "code",
      "metadata": {
        "id": "j9vCvhHpb2Pa"
      },
      "source": [
        "stopwords = set(STOPWORDS)\n",
        "stopwords.update(['캠핑장','합강 캠핑장','합강'])"
      ],
      "execution_count": null,
      "outputs": []
    },
    {
      "cell_type": "code",
      "metadata": {
        "id": "NxJ7l7ccb2Pa"
      },
      "source": [
        "wd_etc_3qt_rd = WordCloud(background_color = \"white\",max_font_size=250,mask=circle_mask,\n",
        "                          font_path='/content/drive/MyDrive/Colab Notebooks/sounds/malgun.ttf',stopwords=stopwords).generate(etc_rd_n_3qt)\n",
        "fig = plt.figure()\n",
        "plt.imshow(wd_etc_3qt_rd, interpolation='bilinear')\n",
        "plt.axis('off')\n",
        "wd_etc_3qt_rd.to_file(filename='/content/drive/MyDrive/Colab Notebooks/wordcloud_img/wd_etc_3qt_rd.jpg')"
      ],
      "execution_count": null,
      "outputs": []
    },
    {
      "cell_type": "markdown",
      "metadata": {
        "id": "m5cWPxwJfEec"
      },
      "source": [
        "## 4분기"
      ]
    },
    {
      "cell_type": "code",
      "metadata": {
        "id": "7KONYlW6fEed"
      },
      "source": [
        "etc_question = data_etc[data_etc['type'] == \"질의\"]\n",
        "etc_question_4qt = etc_question[qt04]\n",
        "etc_qd_4qt = etc_question_4qt['detail']\n",
        "\n",
        "etc_check = data_etc[data_etc['type'] == \"확인\"]\n",
        "etc_check_4qt = etc_check[qt04]\n",
        "etc_cd_4qt = etc_check_4qt['detail']\n",
        "\n",
        "etc_request = data_etc[data_etc['type'] == \"건의\"]\n",
        "etc_request_4qt = etc_request[qt04]\n",
        "etc_rd_4qt = etc_request_4qt['detail']"
      ],
      "execution_count": null,
      "outputs": []
    },
    {
      "cell_type": "markdown",
      "metadata": {
        "id": "9lIFBPAdfEed"
      },
      "source": [
        "질의(=0)"
      ]
    },
    {
      "cell_type": "code",
      "metadata": {
        "id": "q0aFwfU7fEed"
      },
      "source": [
        "etc_qd_tolist_4qt = etc_qd_4qt.values.tolist()\n",
        "etc_qd_list_4qt = ''\n",
        "for i in etc_qd_tolist_4qt:\n",
        "  etc_qd_list_4qt += i"
      ],
      "execution_count": null,
      "outputs": []
    },
    {
      "cell_type": "code",
      "metadata": {
        "id": "mr5yzGx_fEee"
      },
      "source": [
        "etc_qd_nouns_4qt = okt.nouns(etc_qd_list_4qt)\n",
        "etc_qd_n_4qt = ''\n",
        "for i in etc_qd_nouns_4qt:\n",
        "  etc_qd_n_4qt += i+' '"
      ],
      "execution_count": null,
      "outputs": []
    },
    {
      "cell_type": "code",
      "metadata": {
        "id": "8xAMyP6rfEee"
      },
      "source": [
        "etc_qd_nouns_count_4qt = Counter(etc_qd_nouns_4qt)\n",
        "etc_qd_nouns_count_4qt"
      ],
      "execution_count": null,
      "outputs": []
    },
    {
      "cell_type": "code",
      "metadata": {
        "id": "7ndVyMILfEee"
      },
      "source": [
        "stopwords = set(STOPWORDS)\n",
        "# stopwords.update(['캠핑장','합강 캠핑장','합강'])"
      ],
      "execution_count": null,
      "outputs": []
    },
    {
      "cell_type": "code",
      "metadata": {
        "id": "kzFI73XHfEee"
      },
      "source": [
        "wd_etc_4qt_qd = WordCloud(background_color = \"white\",max_font_size=250,mask=circle_mask,\n",
        "                          font_path='/content/drive/MyDrive/Colab Notebooks/sounds/malgun.ttf',stopwords=stopwords).generate(etc_qd_n_4qt)\n",
        "fig = plt.figure()\n",
        "plt.imshow(wd_etc_4qt_qd, interpolation='bilinear')\n",
        "plt.axis('off')\n",
        "wd_etc_4qt_qd.to_file(filename='/content/drive/MyDrive/Colab Notebooks/wordcloud_img/wd_etc_4qt_qd.jpg')"
      ],
      "execution_count": null,
      "outputs": []
    },
    {
      "cell_type": "markdown",
      "metadata": {
        "id": "dzlnOEUVfEee"
      },
      "source": [
        "확인(=0)"
      ]
    },
    {
      "cell_type": "code",
      "metadata": {
        "id": "nQt0lKixfEef"
      },
      "source": [
        "etc_cd_tolist_4qt = etc_cd_4qt.values.tolist()\n",
        "etc_cd_list_4qt = ''\n",
        "for i in etc_cd_tolist_4qt:\n",
        "  etc_cd_list_4qt += i"
      ],
      "execution_count": null,
      "outputs": []
    },
    {
      "cell_type": "code",
      "metadata": {
        "id": "Ij3Ejn_kfEef"
      },
      "source": [
        "etc_cd_nouns_4qt = okt.nouns(etc_cd_list_4qt)\n",
        "etc_cd_n_4qt = ''\n",
        "for i in etc_cd_nouns_4qt:\n",
        "  etc_cd_n_4qt += i+' '"
      ],
      "execution_count": null,
      "outputs": []
    },
    {
      "cell_type": "code",
      "metadata": {
        "id": "l08rJ_xPfEef"
      },
      "source": [
        "etc_cd_nouns_count_4qt = Counter(etc_cd_nouns_4qt)\n",
        "etc_cd_nouns_count_4qt"
      ],
      "execution_count": null,
      "outputs": []
    },
    {
      "cell_type": "code",
      "metadata": {
        "id": "yCvlPqsOfEeg"
      },
      "source": [
        "stopwords = set(STOPWORDS)\n",
        "# stopwords.update(['캠핑장','합강'])"
      ],
      "execution_count": null,
      "outputs": []
    },
    {
      "cell_type": "code",
      "metadata": {
        "id": "2FNa6LV4fEeg"
      },
      "source": [
        "wd_etc_4qt_cd = WordCloud(background_color = \"white\",max_font_size=200,mask=circle_mask,\n",
        "                          font_path='/content/drive/MyDrive/Colab Notebooks/sounds/malgun.ttf',stopwords=stopwords).generate(etc_cd_n_4qt)\n",
        "fig = plt.figure()\n",
        "plt.imshow(wd_etc_4qt_cd, interpolation='bilinear')\n",
        "plt.axis('off')\n",
        "wd_etc_4qt_cd.to_file(filename='/content/drive/MyDrive/Colab Notebooks/wordcloud_img/wd_etc_4qt_cd.jpg')"
      ],
      "execution_count": null,
      "outputs": []
    },
    {
      "cell_type": "markdown",
      "metadata": {
        "id": "3z1P3tY4fEeg"
      },
      "source": [
        "건의(=0)"
      ]
    },
    {
      "cell_type": "code",
      "metadata": {
        "id": "IYXNzoqRfEeg"
      },
      "source": [
        "etc_rd_tolist_4qt = etc_rd_4qt.values.tolist()\n",
        "etc_rd_list_4qt = ''\n",
        "for i in etc_rd_tolist_4qt:\n",
        "  etc_rd_list_4qt += i"
      ],
      "execution_count": null,
      "outputs": []
    },
    {
      "cell_type": "code",
      "metadata": {
        "id": "2QUOo06dfEeg"
      },
      "source": [
        "etc_rd_nouns_4qt = okt.nouns(etc_rd_list_4qt)\n",
        "etc_rd_n_4qt = ''\n",
        "for i in etc_rd_nouns_4qt:\n",
        "  etc_rd_n_4qt += i+' '"
      ],
      "execution_count": null,
      "outputs": []
    },
    {
      "cell_type": "code",
      "metadata": {
        "id": "aWJyqrFOfEeg"
      },
      "source": [
        "etc_rd_nouns_count_4qt = Counter(etc_rd_nouns_4qt)\n",
        "etc_rd_nouns_count_4qt"
      ],
      "execution_count": null,
      "outputs": []
    },
    {
      "cell_type": "code",
      "metadata": {
        "id": "UxRxoXsxfEeg"
      },
      "source": [
        "stopwords = set(STOPWORDS)\n",
        "# stopwords.update(['캠핑장','합강'])"
      ],
      "execution_count": null,
      "outputs": []
    },
    {
      "cell_type": "code",
      "metadata": {
        "id": "L0pnnqoifEeg"
      },
      "source": [
        "wd_etc_4qt_rd = WordCloud(background_color = \"white\",max_font_size=250,mask=circle_mask,\n",
        "                          font_path='/content/drive/MyDrive/Colab Notebooks/sounds/malgun.ttf',stopwords=stopwords).generate(etc_rd_n_4qt)\n",
        "fig = plt.figure()\n",
        "plt.imshow(wd_etc_4qt_rd, interpolation='bilinear')\n",
        "plt.axis('off')\n",
        "wd_etc_4qt_rd.to_file(filename='/content/drive/MyDrive/Colab Notebooks/wordcloud_img/wd_etc_4qt_rd.jpg')"
      ],
      "execution_count": null,
      "outputs": []
    }
  ]
}