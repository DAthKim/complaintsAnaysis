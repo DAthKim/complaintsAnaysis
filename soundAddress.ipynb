{
  "nbformat": 4,
  "nbformat_minor": 0,
  "metadata": {
    "colab": {
      "name": "soundAddress.ipynb",
      "provenance": [],
      "collapsed_sections": [],
      "mount_file_id": "1UKxHggBHIE0MbS4vf3bzLwsIH4LGUC12",
      "authorship_tag": "ABX9TyMnPLeJSy7XDOrSs9J/1qMP"
    },
    "kernelspec": {
      "name": "python3",
      "display_name": "Python 3"
    },
    "language_info": {
      "name": "python"
    }
  },
  "cells": [
    {
      "cell_type": "code",
      "metadata": {
        "id": "1VKSV-wOiBqj"
      },
      "source": [
        "import pandas as pd"
      ],
      "execution_count": null,
      "outputs": []
    },
    {
      "cell_type": "code",
      "metadata": {
        "id": "FdywTozLiRit"
      },
      "source": [
        "labels = ['place','date','messenger','category','type','due','summary','name','phone','email','detail','receive','address','end','period','address_detail','result','result_detail','sign','etc']\n",
        "data01 = pd.read_csv('/content/drive/MyDrive/Colab Notebooks/sounds.csv', names = labels, \n",
        "                     encoding='cp949')\n",
        "data01.head()"
      ],
      "execution_count": null,
      "outputs": []
    },
    {
      "cell_type": "code",
      "metadata": {
        "id": "6ywv6-LGMzI-"
      },
      "source": [
        "select = 'type' # col\n",
        "row = \"건의\" # row\n",
        "select_row = data01[data01[select] == row]\n",
        "select_row.to_csv('sounds_type.csv',encoding='euc-kr',sep=',',na_rep='NaN')"
      ],
      "execution_count": null,
      "outputs": []
    },
    {
      "cell_type": "code",
      "metadata": {
        "id": "tl8g9IewGiKI"
      },
      "source": [
        "data_place = data01['place']\n",
        "data_place_du = data_place[~data_place.duplicated()]\n",
        "data_place_du"
      ],
      "execution_count": null,
      "outputs": []
    },
    {
      "cell_type": "code",
      "metadata": {
        "id": "GpdBl10EtRzr"
      },
      "source": [
        "select_type01 = data01[data01['type'] == \"진정\"]\n",
        "select_type01.to_csv('sounds_type01.csv',encoding='euc-kr',sep=',',na_rep='NaN')\n",
        "\n",
        "select_type02 = data01[data01['type'] == \"질의\"]\n",
        "select_type02.to_csv('sounds_type02.csv',encoding='euc-kr',sep=',',na_rep='NaN')\n",
        "\n",
        "select_type03 = data01[data01['type'] == \"건의\"]\n",
        "select_type03.to_csv('sounds_type03.csv',encoding='euc-kr',sep=',',na_rep='NaN')"
      ],
      "execution_count": null,
      "outputs": []
    },
    {
      "cell_type": "code",
      "metadata": {
        "id": "C0ABkvtwoAST"
      },
      "source": [
        "select_place_jparking = data01[data01['place'] == \"중촌동주차장\"]\n",
        "select_place_jparking.to_csv('/content/drive/MyDrive/Colab Notebooks/sounds/sounds_place_jparking.csv',encoding='euc-kr',sep=',',na_rep=\"NaN\")\n",
        "\n",
        "select_place_sport = data01[data01['place'] == \"장애인형체육센터\"]\n",
        "select_place_sport.to_csv('/content/drive/MyDrive/Colab Notebooks/sounds/sounds_place_sport.csv',encoding='euc-kr',sep=',',na_rep=\"NaN\")\n",
        "\n",
        "select_place_park = data01[data01['place'] == \"은하수공원\"]\n",
        "select_place_park.to_csv('/content/drive/MyDrive/Colab Notebooks/sounds/sounds_place_park.csv',encoding='euc-kr',sep=',',na_rep=\"NaN\")\n",
        "\n",
        "select_place_swim = data01[data01['place'] == \"보람수영장\"]\n",
        "select_place_swim.to_csv('/content/drive/MyDrive/Colab Notebooks/sounds/sounds_place_swim.csv',encoding='euc-kr',sep=',',na_rep=\"NaN\")\n",
        "\n",
        "select_place_hcamp = data01[data01['place'] == \"합강캠핑장\"]\n",
        "select_place_hcamp.to_csv('/content/drive/MyDrive/Colab Notebooks/sounds/sounds_place_hcamp.csv',encoding='euc-kr',sep=',',na_rep=\"NaN\")\n",
        "\n",
        "select_place_cluster = data01[data01['place'] == \"산학연클러스터\"]\n",
        "select_place_cluster.to_csv('/content/drive/MyDrive/Colab Notebooks/sounds/sounds_place_cluster.csv',encoding='euc-kr',sep=',',na_rep=\"NaN\")\n",
        "\n",
        "select_place_center = data01[data01['place'] == \"고용복지+센터\"]\n",
        "select_place_center.to_csv('/content/drive/MyDrive/Colab Notebooks/sounds/sounds_place_center.csv',encoding='euc-kr',sep=',',na_rep=\"NaN\")\n",
        "\n",
        "select_place_apt = data01[data01['place'] == \"행복아파트\"]\n",
        "select_place_apt.to_csv('/content/drive/MyDrive/Colab Notebooks/sounds/sounds_place_apt.csv',encoding='euc-kr',sep=',',na_rep=\"NaN\")\n",
        "\n",
        "select_place_hall = data01[data01['place'] == \"지방자치회관\"]\n",
        "select_place_hall.to_csv('/content/drive/MyDrive/Colab Notebooks/sounds/sounds_place_hall.csv',encoding='euc-kr',sep=',',na_rep=\"NaN\")\n",
        "\n",
        "select_place_jcamp = data01[data01['place'] == \"전월산캠핑장\"]\n",
        "select_place_jcamp.to_csv('/content/drive/MyDrive/Colab Notebooks/sounds/sounds_place_jcamp.csv',encoding='euc-kr',sep=',',na_rep=\"NaN\")\n",
        "\n",
        "select_place_garage = data01[data01['place'] == \"종량제봉투\"]\n",
        "select_place_garage.to_csv('/content/drive/MyDrive/Colab Notebooks/sounds/sounds_place_garage.csv',encoding='euc-kr',sep=',',na_rep=\"NaN\")\n",
        "\n",
        "select_place_jcparking = data01[data01['place'] == \"조치원역주차장\"]\n",
        "select_place_jcparking.to_csv('/content/drive/MyDrive/Colab Notebooks/sounds/sounds_place_jcparking.csv',encoding='euc-kr',sep=',',na_rep=\"NaN\")\n",
        "\n",
        "select_place_jtower = data01[data01['place'] == \"조치원역주차타워\"]\n",
        "select_place_jtower.to_csv('/content/drive/MyDrive/Colab Notebooks/sounds/sounds_place_jtower.csv',encoding='euc-kr',sep=',',na_rep=\"NaN\")\n",
        "\n",
        "select_place_garagebig = data01[data01['place'] == \"대형폐기물\"]\n",
        "select_place_garagebig.to_csv('/content/drive/MyDrive/Colab Notebooks/sounds/sounds_place_garagebig.csv',encoding='euc-kr',sep=',',na_rep=\"NaN\")\n",
        "\n",
        "select_place_arparking = data01[data01['place'] == \"아름동주차장\"]\n",
        "select_place_arparking.to_csv('/content/drive/MyDrive/Colab Notebooks/sounds/sounds_place_arparking.csv',encoding='euc-kr',sep=',',na_rep=\"NaN\")\n",
        "\n",
        "select_place_doparking = data01[data01['place'] == \"도담동주차장\"]\n",
        "select_place_doparking.to_csv('/content/drive/MyDrive/Colab Notebooks/sounds/sounds_place_doparking.csv',encoding='euc-kr',sep=',',na_rep=\"NaN\")\n",
        "\n",
        "select_place_etc = data01[data01['place'] == \"기타\"]\n",
        "select_place_etc.to_csv('/content/drive/MyDrive/Colab Notebooks/sounds/sounds_place_etc.csv',encoding='euc-kr',sep=',',na_rep=\"NaN\")"
      ],
      "execution_count": null,
      "outputs": []
    },
    {
      "cell_type": "code",
      "metadata": {
        "id": "BLXC6avm07wN"
      },
      "source": [
        "for i in type:\n",
        "  select = type\n",
        "  row = i\n",
        "  select_row[1] = data01[data01[select] == \"진정\"]\n",
        "  select_row[2] = data01[data01[select] == \"질의\"]\n",
        "  select_row[3] = data01[data01[select] == \"건의\"]\n",
        "  select_row.to_csv('sounds_type[i].csv',encoding='euc-kr',sep=',',na_rep='NaN')"
      ],
      "execution_count": null,
      "outputs": []
    }
  ]
}