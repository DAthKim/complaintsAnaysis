{
  "nbformat": 4,
  "nbformat_minor": 0,
  "metadata": {
    "colab": {
      "name": "sound_park.ipynb",
      "provenance": [],
      "collapsed_sections": [],
      "mount_file_id": "1Fr8iZZp3zwmJIJo50K1FIjBkdtk0pCFu",
      "authorship_tag": "ABX9TyOrh3xrLeIJ0VwxG2i7tUP6"
    },
    "kernelspec": {
      "name": "python3",
      "display_name": "Python 3"
    },
    "language_info": {
      "name": "python"
    }
  },
  "cells": [
    {
      "cell_type": "code",
      "metadata": {
        "id": "4qHf0nxK02YU"
      },
      "source": [
        "pip install konlpy"
      ],
      "execution_count": null,
      "outputs": []
    },
    {
      "cell_type": "code",
      "metadata": {
        "id": "1VKSV-wOiBqj"
      },
      "source": [
        "import pandas as pd\n",
        "import numpy as np\n",
        "from konlpy.tag import Okt\n",
        "from wordcloud import WordCloud, ImageColorGenerator, STOPWORDS\n",
        "import matplotlib.pyplot as plt\n",
        "%matplotlib inline\n",
        "okt = Okt()\n",
        "import matplotlib.font_manager as fm\n",
        "import re\n",
        "from PIL import Image\n",
        "from io import BytesIO \n",
        "import datetime\n",
        "from collections import Counter"
      ],
      "execution_count": null,
      "outputs": []
    },
    {
      "cell_type": "code",
      "metadata": {
        "id": "FdywTozLiRit"
      },
      "source": [
        "labels = ['place','date','messenger','category','type','due','summary','name','phone','email','detail','receive','address','end','period','address_detail','result','result_detail','sign','etc']\n",
        "data_pk = pd.read_csv('/content/drive/MyDrive/Colab Notebooks/sounds/sounds_place_park.csv', names = labels, encoding='cp949')\n",
        "data_pk.head()"
      ],
      "execution_count": null,
      "outputs": []
    },
    {
      "cell_type": "code",
      "metadata": {
        "id": "RiejVyxnPopP"
      },
      "source": [
        "circle_mask = np.array(Image.open('/content/drive/MyDrive/Colab Notebooks/circle_img.jpg'))"
      ],
      "execution_count": null,
      "outputs": []
    },
    {
      "cell_type": "code",
      "metadata": {
        "id": "LH8zQq2aL9ql"
      },
      "source": [
        "pk_detail = data_pk['detail']\n",
        "pk_d_tolist = pk_detail.values.tolist()\n",
        "pk_d_list = ''\n",
        "for i in pk_d_tolist:\n",
        "  pk_d_list += i\n",
        "pk_d_nouns = okt.nouns(pk_d_list)\n",
        "pk_d_n = ''\n",
        "for i in pk_d_nouns:\n",
        "  pk_d_n += i+' '\n",
        "pk_d_nouns_count = Counter(pk_d_nouns)\n",
        "stopwords = set(STOPWORDS)\n",
        "stopwords.update(['공원','은하수'])"
      ],
      "execution_count": null,
      "outputs": []
    },
    {
      "cell_type": "code",
      "metadata": {
        "id": "cE31WDpYMcDI"
      },
      "source": [
        "wd_pk_d = WordCloud(max_font_size=200,background_color=\"white\",mask=circle_mask,font_path='/content/drive/MyDrive/Colab Notebooks/sounds/malgun.ttf',stopwords=stopwords).generate(pk_d_n)\n",
        "fig = plt.figure()\n",
        "plt.imshow(wd_pk_d, interpolation='bilinear')\n",
        "plt.axis('off')\n",
        "wd_pk_d.to_file(filename='/content/drive/MyDrive/Colab Notebooks/wordcloud_img/wd_pk_d.jpg')"
      ],
      "execution_count": null,
      "outputs": []
    },
    {
      "cell_type": "code",
      "metadata": {
        "id": "GpdBl10EtRzr"
      },
      "source": [
        "pk_question = data_pk[data_pk['type'] == \"질의\"]\n",
        "pk_question_detail = pk_question['detail']\n",
        "\n",
        "pk_check = data_pk[data_pk['type'] == \"확인\"]\n",
        "pk_check_detail = pk_check['detail']\n",
        "\n",
        "pk_request = data_pk[data_pk['type'] == \"건의\"]\n",
        "pk_request_detail = pk_request['detail']"
      ],
      "execution_count": null,
      "outputs": []
    },
    {
      "cell_type": "markdown",
      "metadata": {
        "id": "HlnVffZVMNx9"
      },
      "source": [
        "질의"
      ]
    },
    {
      "cell_type": "code",
      "metadata": {
        "id": "hguVNBbpeFnC"
      },
      "source": [
        "pk_qd_tolist = pk_question_detail.values.tolist()\n",
        "pk_qd_list = ''\n",
        "for i in pk_qd_tolist:\n",
        "  pk_qd_list += i"
      ],
      "execution_count": null,
      "outputs": []
    },
    {
      "cell_type": "code",
      "metadata": {
        "id": "sO-G4dTvIKST"
      },
      "source": [
        "pk_qd_nouns = okt.nouns(pk_qd_list)\n",
        "pk_qd_n = ''\n",
        "for i in pk_qd_nouns:\n",
        "  pk_qd_n += i+' '"
      ],
      "execution_count": null,
      "outputs": []
    },
    {
      "cell_type": "code",
      "metadata": {
        "id": "Oo0dyXx7qqY5"
      },
      "source": [
        "pk_qd_nouns_count = Counter(pk_qd_nouns)\n",
        "pk_qd_nouns_count"
      ],
      "execution_count": null,
      "outputs": []
    },
    {
      "cell_type": "code",
      "metadata": {
        "id": "vN35SalkMVKu"
      },
      "source": [
        "stopwords = set(STOPWORDS)\n",
        "stopwords.update(['은하수','공원','세종'])"
      ],
      "execution_count": null,
      "outputs": []
    },
    {
      "cell_type": "code",
      "metadata": {
        "id": "itbGy5cuGAUQ"
      },
      "source": [
        "wd_pk_qd = WordCloud(max_font_size=250,background_color=\"white\",mask=circle_mask,font_path='/content/drive/MyDrive/Colab Notebooks/sounds/malgun.ttf',stopwords=stopwords).generate(pk_qd_n)\n",
        "fig = plt.figure()\n",
        "plt.imshow(wd_pk_qd, interpolation='bilinear')\n",
        "plt.axis('off')\n",
        "wd_pk_qd.to_file(filename='/content/drive/MyDrive/Colab Notebooks/wordcloud_img/wd_pk_qd.jpg')"
      ],
      "execution_count": null,
      "outputs": []
    },
    {
      "cell_type": "markdown",
      "metadata": {
        "id": "0c13DBGVMSEU"
      },
      "source": [
        "확인"
      ]
    },
    {
      "cell_type": "code",
      "metadata": {
        "id": "HcJj1SkmMSEU"
      },
      "source": [
        "pk_cd_tolist = pk_check_detail.values.tolist()\n",
        "pk_cd_list = ''\n",
        "for i in pk_cd_tolist:\n",
        "  pk_cd_list += i"
      ],
      "execution_count": null,
      "outputs": []
    },
    {
      "cell_type": "code",
      "metadata": {
        "id": "iGb_OXMcMSEV"
      },
      "source": [
        "pk_cd_nouns = okt.nouns(pk_cd_list)\n",
        "pk_cd_n = ''\n",
        "for i in pk_cd_nouns:\n",
        "  pk_cd_n += i+' '"
      ],
      "execution_count": null,
      "outputs": []
    },
    {
      "cell_type": "code",
      "metadata": {
        "id": "kOTBiSp-MSEV"
      },
      "source": [
        "pk_cd_nouns_count = Counter(pk_cd_nouns)\n",
        "pk_cd_nouns_count"
      ],
      "execution_count": null,
      "outputs": []
    },
    {
      "cell_type": "code",
      "metadata": {
        "id": "kCFnjnbIMSEW"
      },
      "source": [
        "stopwords = set(STOPWORDS)\n",
        "# stopwords.update(['모집', '임대', '아파트', '행복'])"
      ],
      "execution_count": null,
      "outputs": []
    },
    {
      "cell_type": "code",
      "metadata": {
        "id": "2V_p_6mTMSEW"
      },
      "source": [
        "wd_pk_cd = WordCloud(max_font_size=300,background_color=\"white\",mask=circle_mask,font_path='/content/drive/MyDrive/Colab Notebooks/sounds/malgun.ttf',stopwords=stopwords).generate(pk_cd_n)\n",
        "fig = plt.figure()\n",
        "plt.imshow(wd_pk_cd, interpolation='bilinear')\n",
        "plt.axis('off')\n",
        "wd_pk_cd.to_file(filename='/content/drive/MyDrive/Colab Notebooks/wordcloud_img/wd_pk_cd.jpg')"
      ],
      "execution_count": null,
      "outputs": []
    },
    {
      "cell_type": "markdown",
      "metadata": {
        "id": "LyeGO-iJMURB"
      },
      "source": [
        "건의"
      ]
    },
    {
      "cell_type": "code",
      "metadata": {
        "id": "cVcNFa7VMURB"
      },
      "source": [
        "pk_rd_tolist = pk_request_detail.values.tolist()\n",
        "pk_rd_list = ''\n",
        "for i in pk_rd_tolist:\n",
        "  pk_rd_list += i"
      ],
      "execution_count": null,
      "outputs": []
    },
    {
      "cell_type": "code",
      "metadata": {
        "id": "4fBySnj2MURB"
      },
      "source": [
        "pk_rd_nouns = okt.nouns(pk_rd_list)\n",
        "pk_rd_n = ''\n",
        "for i in pk_rd_nouns:\n",
        "  pk_rd_n += i+' '"
      ],
      "execution_count": null,
      "outputs": []
    },
    {
      "cell_type": "code",
      "metadata": {
        "id": "u-WgUH5LMURB"
      },
      "source": [
        "pk_rd_nouns_count = Counter(pk_rd_nouns)\n",
        "pk_rd_nouns_count"
      ],
      "execution_count": null,
      "outputs": []
    },
    {
      "cell_type": "code",
      "metadata": {
        "id": "5SMCS2jaMURB"
      },
      "source": [
        "stopwords = set(STOPWORDS)\n",
        "stopwords.update(['공원','은하수'])"
      ],
      "execution_count": null,
      "outputs": []
    },
    {
      "cell_type": "code",
      "metadata": {
        "id": "SOA7P1S0MURC"
      },
      "source": [
        "wd_pk_rd = WordCloud(max_font_size=250,background_color=\"white\",mask=circle_mask,font_path='/content/drive/MyDrive/Colab Notebooks/sounds/malgun.ttf',stopwords=stopwords).generate(pk_rd_n)\n",
        "fig = plt.figure()\n",
        "plt.imshow(wd_pk_rd, interpolation='bilinear')\n",
        "plt.axis('off')\n",
        "wd_pk_rd.to_file(filename='/content/drive/MyDrive/Colab Notebooks/wordcloud_img/wd_pk_rd.jpg')"
      ],
      "execution_count": null,
      "outputs": []
    }
  ]
}